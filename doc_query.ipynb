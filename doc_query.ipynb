{
 "cells": [
  {
   "cell_type": "code",
   "execution_count": 3,
   "metadata": {},
   "outputs": [],
   "source": [
    "from docquery import document, pipeline\n",
    "p = pipeline('document-question-answering')\n",
    "\n",
    "# using shorter PDF for quick testing\n",
    "doc = document.load_document(\"../data-generator/notes/Student_Notes_short.pdf\")\n",
    "\n",
    "# use full pdf for real testing\n",
    "# doc = document.load_document(\"../data-generator/notes/Student Notes.pdf\")"
   ]
  },
  {
   "cell_type": "code",
   "execution_count": 4,
   "metadata": {},
   "outputs": [
    {
     "name": "stdout",
     "output_type": "stream",
     "text": [
      "huggingface/tokenizers: The current process just got forked, after parallelism has already been used. Disabling parallelism to avoid deadlocks...\n",
      "To disable this warning, you can either:\n",
      "\t- Avoid using `tokenizers` before the fork if possible\n",
      "\t- Explicitly set the environment variable TOKENIZERS_PARALLELISM=(true | false)\n",
      "huggingface/tokenizers: The current process just got forked, after parallelism has already been used. Disabling parallelism to avoid deadlocks...\n",
      "To disable this warning, you can either:\n",
      "\t- Avoid using `tokenizers` before the fork if possible\n",
      "\t- Explicitly set the environment variable TOKENIZERS_PARALLELISM=(true | false)\n",
      "huggingface/tokenizers: The current process just got forked, after parallelism has already been used. Disabling parallelism to avoid deadlocks...\n",
      "To disable this warning, you can either:\n",
      "\t- Avoid using `tokenizers` before the fork if possible\n",
      "\t- Explicitly set the environment variable TOKENIZERS_PARALLELISM=(true | false)\n",
      "What are boolean logic operations? {'score': 0.9999390840530396, 'answer': 'notation, deﬁnitions, and symbols.', 'word_ids': [157, 158, 159, 160], 'page': 17}\n"
     ]
    }
   ],
   "source": [
    "questions = [\n",
    "  \"What are boolean logic operations?\", \n",
    "  \"What is overflow?\",\n",
    "  ]\n",
    "\n",
    "for q in questions:\n",
    "  print(q, p(question=q, **doc.context))"
   ]
  },
  {
   "cell_type": "code",
   "execution_count": null,
   "metadata": {},
   "outputs": [],
   "source": []
  }
 ],
 "metadata": {
  "kernelspec": {
   "display_name": "Python 3.8.13 ('cpu_nlp')",
   "language": "python",
   "name": "python3"
  },
  "language_info": {
   "codemirror_mode": {
    "name": "ipython",
    "version": 3
   },
   "file_extension": ".py",
   "mimetype": "text/x-python",
   "name": "python",
   "nbconvert_exporter": "python",
   "pygments_lexer": "ipython3",
   "version": "3.8.13"
  },
  "orig_nbformat": 4,
  "vscode": {
   "interpreter": {
    "hash": "e37f0a8afa730d972bb2bedc65a55e2e751f510b12eab90711d3d898844e1392"
   }
  }
 },
 "nbformat": 4,
 "nbformat_minor": 2
}
