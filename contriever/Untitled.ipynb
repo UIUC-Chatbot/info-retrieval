{
 "cells": [
  {
   "cell_type": "code",
   "execution_count": 1,
   "id": "9f713355",
   "metadata": {},
   "outputs": [],
   "source": [
    "import json\n",
    "import pandas as pd"
   ]
  },
  {
   "cell_type": "code",
   "execution_count": 3,
   "id": "7f3e8cb1",
   "metadata": {},
   "outputs": [],
   "source": [
    "f = open(\"textbook_embeddings/fine_tune_section_training_data.json\")\n",
    "data = json.load(f)"
   ]
  },
  {
   "cell_type": "code",
   "execution_count": 14,
   "id": "b5727dac",
   "metadata": {},
   "outputs": [
    {
     "data": {
      "text/plain": [
       "'What was the main goal for Prof. Doug Jones when he designed the vending machine application and FSM?A) To create a system that would be used to teach over 400 students entering ECE every semesterB) To design a vending machine that would accept coins and emit a signal when 35 cents had been paidC) To develop an inexpensive and portable replacement for the physical testing systems used in previous semestersD) To identify common failure modes and improve robustness'"
      ]
     },
     "execution_count": 14,
     "metadata": {},
     "output_type": "execute_result"
    }
   ],
   "source": [
    "data['51']['query']"
   ]
  },
  {
   "cell_type": "code",
   "execution_count": 15,
   "id": "04cbe171",
   "metadata": {},
   "outputs": [
    {
     "data": {
      "text/plain": [
       "\"{Design of the Finite State Machine for the Lab}This set of notes explains the process that Prof. Doug Jones used to developthe FSM for the lab.The lab simulates a vending machine mechanism for automatically identifying coins (dimes and quarters only), tracking the amount of money entered by the user, accepting or rejecting coins, and emitting a signal when a total of 35 cents has been accepted.  In the lab, we will only drive a light with the ``paid in full'' signal.  Sorry, neither candy nor Dew will be distributed!Prof. Doug Jones designed the vending machine application and the FSM,while Prof. Chris Schmitz prototyped and constructed the physical elements with some help from the ECE shop.Prof. Volodymyr Kindratenko together with Prof. Geoffrey Herman created both the wiki documentation and the Altera Quartus portions of the lab(the latter were based on earlier Mentor Graphics work by Prof. Herman).Prof. Kindratenko also helped to scale the design in a way that made it possible to deliver to the over 400 students enteringECE every semester.  Prof. Juan Jos'e Jaramillo later identifiedcommon failure modes, including variability caused by sunshine through the windows in ECEB,{No wonder people say that engineers hate sunlight!} and made some changes to improve robustness.  He alsocreated the PowerPoint slides that are typically used to describe the lab inlecture.  Casey Smith, head guru of the ECE Instructional Labs,developed a new debounce design and made some other hardware improvements to reduce the rate of student headaches.Finally, Prof. Kirill Levchenko together with UA Saidivya Ashokstruck a blow against COVID-19 by developing an inexpensive andportable replacement for the physical ``vending machine'' systemsused for testing in previous semesters.\""
      ]
     },
     "execution_count": 15,
     "metadata": {},
     "output_type": "execute_result"
    }
   ],
   "source": [
    "data['51']['pos_a']"
   ]
  },
  {
   "cell_type": "code",
   "execution_count": 17,
   "id": "c6bbf316",
   "metadata": {},
   "outputs": [
    {
     "data": {
      "text/plain": [
       "\"{Overflow for Unsigned Addition}Let's say that we add two {N-bit} unsigned numbers, Aand B.  The {N-bit} unsigned representation can represent integers in the range [0,2^N-1].Recall that we say that the addition operation has overflowed if the number represented by the {N-bit} patternproduced for the sum does not actually represent the number A+B.For clarity, let's name the bits of A by writing the numberas a_{N-1}a_{N-2}...a_1a_0.  Similarly, let's write B asb_{N-1}b_{N-2}...b_1b_0.  Name the sum C=A+B.  The sum thatcomes out of the add unit has only N bits, but recall thatwe claimed in class that the overflow condition for unsigned addition is given by the { carry} out of the most significantbit.  So let's write the sum as c_c_{N-1}c_{N-2}...c_1c_0, realizing that c_N is thecarry out and not actually part of the sum produced by the add unit.{ Theorem:}Addition of two {N-bit} unsigned numbersA=a_{N-1}a_{N-2}...a_1a_0andB=b_{N-1}b_{N-2}...b_1b_0to produce sumC=A+B=c_c_{N-1}c_{N-2}...c_1c_0,overflows if and only ifthe carry out c_N of the addition is a 1 bit.{ Proof:}Let's start with the ``if'' direction.  In other words, c_N=1 impliesoverflow.  Recall that unsigned addition is the same as base 2 addition,except that we discard bits beyond c_{N-1} from the sum C.The bit c_N has place value 2^N, so, when c_N=1 we can write that the correct sum C{2^N}.  But no value that large can be representedusing the {N-bit} unsigned representation, so we have an overflow.The other direction (``only if'') is slightly more complex: we need toshow that overflow implies that c_N=1.  We use a range-based argumentfor this purpose.  Overflow means that the sum C is outside therepresentable range [0,2^N-1].  Adding two non-negative numbers cannotproduce a negative number, so the sum can't be smaller than 0.  Overflow thus implies that C{2^N}.Does that argument complete the proof?  No, because some numbers, such as 2^{N+1}, are larger than 2^N, but do not have a 1 bit in the Nthposition when written in binary.  We need to make use of the constraintson A and B implied by the possible range of the representation.In particular, given that A and B are represented as {N-bit}unsigned values, we can write{eqnarray*}0  & A &  2^N - 10  & B &  2^N - 1{eqnarray*}We add these two inequalities and replace A+B with C to obtain{eqnarray*}0  & C &  2^{N + 1} - 2{eqnarray*}Combining the new inequality with the one implied by the overflow condition, we obtain{eqnarray*}2^N  & C &  2^{N + 1} - 2{eqnarray*}All of the numbers in the range allowed by this inequality have c_N=1,completing our proof.\""
      ]
     },
     "execution_count": 17,
     "metadata": {},
     "output_type": "execute_result"
    }
   ],
   "source": [
    "data['51']['neg_a2']"
   ]
  }
 ],
 "metadata": {
  "kernelspec": {
   "display_name": "Python 3 (ipykernel)",
   "language": "python",
   "name": "python3"
  },
  "language_info": {
   "codemirror_mode": {
    "name": "ipython",
    "version": 3
   },
   "file_extension": ".py",
   "mimetype": "text/x-python",
   "name": "python",
   "nbconvert_exporter": "python",
   "pygments_lexer": "ipython3",
   "version": "3.10.4"
  }
 },
 "nbformat": 4,
 "nbformat_minor": 5
}
