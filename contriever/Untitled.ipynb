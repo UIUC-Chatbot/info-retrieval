{
 "cells": [
  {
   "cell_type": "code",
   "execution_count": 1,
   "id": "9f713355",
   "metadata": {},
   "outputs": [],
   "source": [
    "import json\n",
    "import pandas as pd"
   ]
  },
  {
   "cell_type": "code",
   "execution_count": 3,
   "id": "7f3e8cb1",
   "metadata": {},
   "outputs": [],
   "source": [
    "f = open(\"textbook_embeddings/fine_tune_section_training_data.json\")\n",
    "data = json.load(f)"
   ]
  },
  {
   "cell_type": "code",
   "execution_count": 14,
   "id": "b5727dac",
   "metadata": {},
   "outputs": [
    {
     "data": {
      "text/plain": [
       "'What was the main goal for Prof. Doug Jones when he designed the vending machine application and FSM?A) To create a system that would be used to teach over 400 students entering ECE every semesterB) To design a vending machine that would accept coins and emit a signal when 35 cents had been paidC) To develop an inexpensive and portable replacement for the physical testing systems used in previous semestersD) To identify common failure modes and improve robustness'"
      ]
     },
     "execution_count": 14,
     "metadata": {},
     "output_type": "execute_result"
    }
   ],
   "source": [
    "data['51']['query']"
   ]
  },
  {
   "cell_type": "code",
   "execution_count": 15,
   "id": "04cbe171",
   "metadata": {},
   "outputs": [
    {
     "data": {
      "text/plain": [
       "\"{Design of the Finite State Machine for the Lab}This set of notes explains the process that Prof. Doug Jones used to developthe FSM for the lab.The lab simulates a vending machine mechanism for automatically identifying coins (dimes and quarters only), tracking the amount of money entered by the user, accepting or rejecting coins, and emitting a signal when a total of 35 cents has been accepted.  In the lab, we will only drive a light with the ``paid in full'' signal.  Sorry, neither candy nor Dew will be distributed!Prof. Doug Jones designed the vending machine application and the FSM,while Prof. Chris Schmitz prototyped and constructed the physical elements with some help from the ECE shop.Prof. Volodymyr Kindratenko together with Prof. Geoffrey Herman created both the wiki documentation and the Altera Quartus portions of the lab(the latter were based on earlier Mentor Graphics work by Prof. Herman).Prof. Kindratenko also helped to scale the design in a way that made it possible to deliver to the over 400 students enteringECE every semester.  Prof. Juan Jos'e Jaramillo later identifiedcommon failure modes, including variability caused by sunshine through the windows in ECEB,{No wonder people say that engineers hate sunlight!} and made some changes to improve robustness.  He alsocreated the PowerPoint slides that are typically used to describe the lab inlecture.  Casey Smith, head guru of the ECE Instructional Labs,developed a new debounce design and made some other hardware improvements to reduce the rate of student headaches.Finally, Prof. Kirill Levchenko together with UA Saidivya Ashokstruck a blow against COVID-19 by developing an inexpensive andportable replacement for the physical ``vending machine'' systemsused for testing in previous semesters.\""
      ]
     },
     "execution_count": 15,
     "metadata": {},
     "output_type": "execute_result"
    }
   ],
   "source": [
    "data['51']['pos_a']"
   ]
  },
  {
   "cell_type": "code",
   "execution_count": 17,
   "id": "c6bbf316",
   "metadata": {},
   "outputs": [
    {
     "data": {
      "text/plain": [
       "\"{Overflow for Unsigned Addition}Let's say that we add two {N-bit} unsigned numbers, Aand B.  The {N-bit} unsigned representation can represent integers in the range [0,2^N-1].Recall that we say that the addition operation has overflowed if the number represented by the {N-bit} patternproduced for the sum does not actually represent the number A+B.For clarity, let's name the bits of A by writing the numberas a_{N-1}a_{N-2}...a_1a_0.  Similarly, let's write B asb_{N-1}b_{N-2}...b_1b_0.  Name the sum C=A+B.  The sum thatcomes out of the add unit has only N bits, but recall thatwe claimed in class that the overflow condition for unsigned addition is given by the { carry} out of the most significantbit.  So let's write the sum as c_c_{N-1}c_{N-2}...c_1c_0, realizing that c_N is thecarry out and not actually part of the sum produced by the add unit.{ Theorem:}Addition of two {N-bit} unsigned numbersA=a_{N-1}a_{N-2}...a_1a_0andB=b_{N-1}b_{N-2}...b_1b_0to produce sumC=A+B=c_c_{N-1}c_{N-2}...c_1c_0,overflows if and only ifthe carry out c_N of the addition is a 1 bit.{ Proof:}Let's start with the ``if'' direction.  In other words, c_N=1 impliesoverflow.  Recall that unsigned addition is the same as base 2 addition,except that we discard bits beyond c_{N-1} from the sum C.The bit c_N has place value 2^N, so, when c_N=1 we can write that the correct sum C{2^N}.  But no value that large can be representedusing the {N-bit} unsigned representation, so we have an overflow.The other direction (``only if'') is slightly more complex: we need toshow that overflow implies that c_N=1.  We use a range-based argumentfor this purpose.  Overflow means that the sum C is outside therepresentable range [0,2^N-1].  Adding two non-negative numbers cannotproduce a negative number, so the sum can't be smaller than 0.  Overflow thus implies that C{2^N}.Does that argument complete the proof?  No, because some numbers, such as 2^{N+1}, are larger than 2^N, but do not have a 1 bit in the Nthposition when written in binary.  We need to make use of the constraintson A and B implied by the possible range of the representation.In particular, given that A and B are represented as {N-bit}unsigned values, we can write{eqnarray*}0  & A &  2^N - 10  & B &  2^N - 1{eqnarray*}We add these two inequalities and replace A+B with C to obtain{eqnarray*}0  & C &  2^{N + 1} - 2{eqnarray*}Combining the new inequality with the one implied by the overflow condition, we obtain{eqnarray*}2^N  & C &  2^{N + 1} - 2{eqnarray*}All of the numbers in the range allowed by this inequality have c_N=1,completing our proof.\""
      ]
     },
     "execution_count": 17,
     "metadata": {},
     "output_type": "execute_result"
    }
   ],
   "source": [
    "data['51']['neg_a2']"
   ]
  },
  {
   "cell_type": "code",
   "execution_count": 13,
   "id": "277eb957",
   "metadata": {},
   "outputs": [
    {
     "name": "stdout",
     "output_type": "stream",
     "text": [
      "Requirement already satisfied: transformers==4.26.1 in /home/avd6/utils/miniconda3/lib/python3.10/site-packages (4.26.1)\n",
      "Requirement already satisfied: pyyaml>=5.1 in /home/avd6/utils/miniconda3/lib/python3.10/site-packages (from transformers==4.26.1) (6.0)\n",
      "Requirement already satisfied: tqdm>=4.27 in /home/avd6/utils/miniconda3/lib/python3.10/site-packages (from transformers==4.26.1) (4.64.1)\n",
      "Requirement already satisfied: filelock in /home/avd6/utils/miniconda3/lib/python3.10/site-packages (from transformers==4.26.1) (3.9.0)\n",
      "Requirement already satisfied: packaging>=20.0 in /home/avd6/utils/miniconda3/lib/python3.10/site-packages (from transformers==4.26.1) (23.0)\n",
      "Requirement already satisfied: huggingface-hub<1.0,>=0.11.0 in /home/avd6/utils/miniconda3/lib/python3.10/site-packages (from transformers==4.26.1) (0.12.0)\n",
      "Requirement already satisfied: requests in /home/avd6/utils/miniconda3/lib/python3.10/site-packages (from transformers==4.26.1) (2.28.1)\n",
      "Requirement already satisfied: tokenizers!=0.11.3,<0.14,>=0.11.1 in /home/avd6/utils/miniconda3/lib/python3.10/site-packages (from transformers==4.26.1) (0.13.2)\n",
      "Requirement already satisfied: numpy>=1.17 in /home/avd6/utils/miniconda3/lib/python3.10/site-packages (from transformers==4.26.1) (1.24.1)\n",
      "Requirement already satisfied: regex!=2019.12.17 in /home/avd6/utils/miniconda3/lib/python3.10/site-packages (from transformers==4.26.1) (2022.10.31)\n",
      "Requirement already satisfied: typing-extensions>=3.7.4.3 in /home/avd6/utils/miniconda3/lib/python3.10/site-packages (from huggingface-hub<1.0,>=0.11.0->transformers==4.26.1) (4.4.0)\n",
      "Requirement already satisfied: idna<4,>=2.5 in /home/avd6/utils/miniconda3/lib/python3.10/site-packages (from requests->transformers==4.26.1) (3.4)\n",
      "Requirement already satisfied: certifi>=2017.4.17 in /home/avd6/utils/miniconda3/lib/python3.10/site-packages (from requests->transformers==4.26.1) (2022.6.15)\n",
      "Requirement already satisfied: urllib3<1.27,>=1.21.1 in /home/avd6/utils/miniconda3/lib/python3.10/site-packages (from requests->transformers==4.26.1) (1.26.13)\n",
      "Requirement already satisfied: charset-normalizer<3,>=2 in /home/avd6/utils/miniconda3/lib/python3.10/site-packages (from requests->transformers==4.26.1) (2.1.1)\n",
      "Note: you may need to restart the kernel to use updated packages.\n"
     ]
    }
   ],
   "source": [
    "pip install transformers==4.26.1\n"
   ]
  },
  {
   "cell_type": "code",
   "execution_count": 1,
   "id": "b9e9c5a5",
   "metadata": {},
   "outputs": [],
   "source": [
    "import transformers"
   ]
  },
  {
   "cell_type": "code",
   "execution_count": 2,
   "id": "74c3d4e7",
   "metadata": {},
   "outputs": [
    {
     "name": "stdout",
     "output_type": "stream",
     "text": [
      "4.26.1\n"
     ]
    }
   ],
   "source": [
    "print(transformers.__version__)\n"
   ]
  },
  {
   "cell_type": "code",
   "execution_count": 4,
   "id": "259146b8",
   "metadata": {},
   "outputs": [],
   "source": [
    "from transformers import RagTokenizer"
   ]
  },
  {
   "cell_type": "code",
   "execution_count": 5,
   "id": "48c63aba",
   "metadata": {},
   "outputs": [
    {
     "ename": "RuntimeError",
     "evalue": "Failed to import transformers.models.rag.modeling_rag because of the following error (look up to see its traceback):\ninstall() got an unexpected keyword argument 'show_locals'",
     "output_type": "error",
     "traceback": [
      "\u001b[0;31m---------------------------------------------------------------------------\u001b[0m",
      "\u001b[0;31mTypeError\u001b[0m                                 Traceback (most recent call last)",
      "File \u001b[0;32m~/utils/miniconda3/lib/python3.10/site-packages/transformers/utils/import_utils.py:1110\u001b[0m, in \u001b[0;36m_LazyModule._get_module\u001b[0;34m(self, module_name)\u001b[0m\n\u001b[1;32m   1109\u001b[0m \u001b[39mtry\u001b[39;00m:\n\u001b[0;32m-> 1110\u001b[0m     \u001b[39mreturn\u001b[39;00m importlib\u001b[39m.\u001b[39;49mimport_module(\u001b[39m\"\u001b[39;49m\u001b[39m.\u001b[39;49m\u001b[39m\"\u001b[39;49m \u001b[39m+\u001b[39;49m module_name, \u001b[39mself\u001b[39;49m\u001b[39m.\u001b[39;49m\u001b[39m__name__\u001b[39;49m)\n\u001b[1;32m   1111\u001b[0m \u001b[39mexcept\u001b[39;00m \u001b[39mException\u001b[39;00m \u001b[39mas\u001b[39;00m e:\n",
      "File \u001b[0;32m~/utils/miniconda3/lib/python3.10/importlib/__init__.py:126\u001b[0m, in \u001b[0;36mimport_module\u001b[0;34m(name, package)\u001b[0m\n\u001b[1;32m    125\u001b[0m         level \u001b[39m+\u001b[39m\u001b[39m=\u001b[39m \u001b[39m1\u001b[39m\n\u001b[0;32m--> 126\u001b[0m \u001b[39mreturn\u001b[39;00m _bootstrap\u001b[39m.\u001b[39;49m_gcd_import(name[level:], package, level)\n",
      "File \u001b[0;32m<frozen importlib._bootstrap>:1050\u001b[0m, in \u001b[0;36m_gcd_import\u001b[0;34m(name, package, level)\u001b[0m\n",
      "File \u001b[0;32m<frozen importlib._bootstrap>:1027\u001b[0m, in \u001b[0;36m_find_and_load\u001b[0;34m(name, import_)\u001b[0m\n",
      "File \u001b[0;32m<frozen importlib._bootstrap>:1006\u001b[0m, in \u001b[0;36m_find_and_load_unlocked\u001b[0;34m(name, import_)\u001b[0m\n",
      "File \u001b[0;32m<frozen importlib._bootstrap>:688\u001b[0m, in \u001b[0;36m_load_unlocked\u001b[0;34m(spec)\u001b[0m\n",
      "File \u001b[0;32m<frozen importlib._bootstrap_external>:883\u001b[0m, in \u001b[0;36mexec_module\u001b[0;34m(self, module)\u001b[0m\n",
      "File \u001b[0;32m<frozen importlib._bootstrap>:241\u001b[0m, in \u001b[0;36m_call_with_frames_removed\u001b[0;34m(f, *args, **kwds)\u001b[0m\n",
      "File \u001b[0;32m~/utils/miniconda3/lib/python3.10/site-packages/transformers/models/rag/modeling_rag.py:27\u001b[0m\n\u001b[1;32m     26\u001b[0m \u001b[39mfrom\u001b[39;00m \u001b[39m.\u001b[39;00m\u001b[39m.\u001b[39;00m\u001b[39m.\u001b[39;00m\u001b[39mmodeling_outputs\u001b[39;00m \u001b[39mimport\u001b[39;00m ModelOutput\n\u001b[0;32m---> 27\u001b[0m \u001b[39mfrom\u001b[39;00m \u001b[39m.\u001b[39;00m\u001b[39m.\u001b[39;00m\u001b[39m.\u001b[39;00m\u001b[39mmodeling_utils\u001b[39;00m \u001b[39mimport\u001b[39;00m PreTrainedModel\n\u001b[1;32m     28\u001b[0m \u001b[39mfrom\u001b[39;00m \u001b[39m.\u001b[39;00m\u001b[39m.\u001b[39;00m\u001b[39m.\u001b[39;00m\u001b[39mutils\u001b[39;00m \u001b[39mimport\u001b[39;00m add_start_docstrings_to_model_forward, logging, replace_return_docstrings\n",
      "File \u001b[0;32m~/utils/miniconda3/lib/python3.10/site-packages/transformers/modeling_utils.py:83\u001b[0m\n\u001b[1;32m     82\u001b[0m \u001b[39mif\u001b[39;00m is_accelerate_available():\n\u001b[0;32m---> 83\u001b[0m     \u001b[39mfrom\u001b[39;00m \u001b[39maccelerate\u001b[39;00m \u001b[39mimport\u001b[39;00m __version__ \u001b[39mas\u001b[39;00m accelerate_version\n\u001b[1;32m     84\u001b[0m     \u001b[39mfrom\u001b[39;00m \u001b[39maccelerate\u001b[39;00m \u001b[39mimport\u001b[39;00m dispatch_model, infer_auto_device_map, init_empty_weights\n",
      "File \u001b[0;32m~/utils/miniconda3/lib/python3.10/site-packages/accelerate/__init__.py:34\u001b[0m\n\u001b[1;32m     33\u001b[0m \u001b[39mif\u001b[39;00m is_rich_available():\n\u001b[0;32m---> 34\u001b[0m     \u001b[39mfrom\u001b[39;00m \u001b[39m.\u001b[39;00m\u001b[39mutils\u001b[39;00m \u001b[39mimport\u001b[39;00m rich\n",
      "File \u001b[0;32m~/utils/miniconda3/lib/python3.10/site-packages/accelerate/utils/rich.py:21\u001b[0m\n\u001b[1;32m     19\u001b[0m     \u001b[39mfrom\u001b[39;00m \u001b[39mrich\u001b[39;00m\u001b[39m.\u001b[39;00m\u001b[39mtraceback\u001b[39;00m \u001b[39mimport\u001b[39;00m install\n\u001b[0;32m---> 21\u001b[0m     install(show_locals\u001b[39m=\u001b[39;49m\u001b[39mFalse\u001b[39;49;00m)\n\u001b[1;32m     23\u001b[0m \u001b[39melse\u001b[39;00m:\n",
      "\u001b[0;31mTypeError\u001b[0m: install() got an unexpected keyword argument 'show_locals'",
      "\nThe above exception was the direct cause of the following exception:\n",
      "\u001b[0;31mRuntimeError\u001b[0m                              Traceback (most recent call last)",
      "Cell \u001b[0;32mIn[5], line 1\u001b[0m\n\u001b[0;32m----> 1\u001b[0m \u001b[39mfrom\u001b[39;00m \u001b[39mtransformers\u001b[39;00m \u001b[39mimport\u001b[39;00m RagTokenForGeneration\n",
      "File \u001b[0;32m<frozen importlib._bootstrap>:1075\u001b[0m, in \u001b[0;36m_handle_fromlist\u001b[0;34m(module, fromlist, import_, recursive)\u001b[0m\n",
      "File \u001b[0;32m~/utils/miniconda3/lib/python3.10/site-packages/transformers/utils/import_utils.py:1101\u001b[0m, in \u001b[0;36m_LazyModule.__getattr__\u001b[0;34m(self, name)\u001b[0m\n\u001b[1;32m   1099\u001b[0m \u001b[39melif\u001b[39;00m name \u001b[39min\u001b[39;00m \u001b[39mself\u001b[39m\u001b[39m.\u001b[39m_class_to_module\u001b[39m.\u001b[39mkeys():\n\u001b[1;32m   1100\u001b[0m     module \u001b[39m=\u001b[39m \u001b[39mself\u001b[39m\u001b[39m.\u001b[39m_get_module(\u001b[39mself\u001b[39m\u001b[39m.\u001b[39m_class_to_module[name])\n\u001b[0;32m-> 1101\u001b[0m     value \u001b[39m=\u001b[39m \u001b[39mgetattr\u001b[39;49m(module, name)\n\u001b[1;32m   1102\u001b[0m \u001b[39melse\u001b[39;00m:\n\u001b[1;32m   1103\u001b[0m     \u001b[39mraise\u001b[39;00m \u001b[39mAttributeError\u001b[39;00m(\u001b[39mf\u001b[39m\u001b[39m\"\u001b[39m\u001b[39mmodule \u001b[39m\u001b[39m{\u001b[39;00m\u001b[39mself\u001b[39m\u001b[39m.\u001b[39m\u001b[39m__name__\u001b[39m\u001b[39m}\u001b[39;00m\u001b[39m has no attribute \u001b[39m\u001b[39m{\u001b[39;00mname\u001b[39m}\u001b[39;00m\u001b[39m\"\u001b[39m)\n",
      "File \u001b[0;32m~/utils/miniconda3/lib/python3.10/site-packages/transformers/utils/import_utils.py:1100\u001b[0m, in \u001b[0;36m_LazyModule.__getattr__\u001b[0;34m(self, name)\u001b[0m\n\u001b[1;32m   1098\u001b[0m     value \u001b[39m=\u001b[39m \u001b[39mself\u001b[39m\u001b[39m.\u001b[39m_get_module(name)\n\u001b[1;32m   1099\u001b[0m \u001b[39melif\u001b[39;00m name \u001b[39min\u001b[39;00m \u001b[39mself\u001b[39m\u001b[39m.\u001b[39m_class_to_module\u001b[39m.\u001b[39mkeys():\n\u001b[0;32m-> 1100\u001b[0m     module \u001b[39m=\u001b[39m \u001b[39mself\u001b[39;49m\u001b[39m.\u001b[39;49m_get_module(\u001b[39mself\u001b[39;49m\u001b[39m.\u001b[39;49m_class_to_module[name])\n\u001b[1;32m   1101\u001b[0m     value \u001b[39m=\u001b[39m \u001b[39mgetattr\u001b[39m(module, name)\n\u001b[1;32m   1102\u001b[0m \u001b[39melse\u001b[39;00m:\n",
      "File \u001b[0;32m~/utils/miniconda3/lib/python3.10/site-packages/transformers/utils/import_utils.py:1112\u001b[0m, in \u001b[0;36m_LazyModule._get_module\u001b[0;34m(self, module_name)\u001b[0m\n\u001b[1;32m   1110\u001b[0m     \u001b[39mreturn\u001b[39;00m importlib\u001b[39m.\u001b[39mimport_module(\u001b[39m\"\u001b[39m\u001b[39m.\u001b[39m\u001b[39m\"\u001b[39m \u001b[39m+\u001b[39m module_name, \u001b[39mself\u001b[39m\u001b[39m.\u001b[39m\u001b[39m__name__\u001b[39m)\n\u001b[1;32m   1111\u001b[0m \u001b[39mexcept\u001b[39;00m \u001b[39mException\u001b[39;00m \u001b[39mas\u001b[39;00m e:\n\u001b[0;32m-> 1112\u001b[0m     \u001b[39mraise\u001b[39;00m \u001b[39mRuntimeError\u001b[39;00m(\n\u001b[1;32m   1113\u001b[0m         \u001b[39mf\u001b[39m\u001b[39m\"\u001b[39m\u001b[39mFailed to import \u001b[39m\u001b[39m{\u001b[39;00m\u001b[39mself\u001b[39m\u001b[39m.\u001b[39m\u001b[39m__name__\u001b[39m\u001b[39m}\u001b[39;00m\u001b[39m.\u001b[39m\u001b[39m{\u001b[39;00mmodule_name\u001b[39m}\u001b[39;00m\u001b[39m because of the following error (look up to see its\u001b[39m\u001b[39m\"\u001b[39m\n\u001b[1;32m   1114\u001b[0m         \u001b[39mf\u001b[39m\u001b[39m\"\u001b[39m\u001b[39m traceback):\u001b[39m\u001b[39m\\n\u001b[39;00m\u001b[39m{\u001b[39;00me\u001b[39m}\u001b[39;00m\u001b[39m\"\u001b[39m\n\u001b[1;32m   1115\u001b[0m     ) \u001b[39mfrom\u001b[39;00m \u001b[39me\u001b[39;00m\n",
      "\u001b[0;31mRuntimeError\u001b[0m: Failed to import transformers.models.rag.modeling_rag because of the following error (look up to see its traceback):\ninstall() got an unexpected keyword argument 'show_locals'"
     ]
    }
   ],
   "source": [
    "from transformers import RagTokenForGeneration"
   ]
  }
 ],
 "metadata": {
  "kernelspec": {
   "display_name": "base",
   "language": "python",
   "name": "python3"
  },
  "language_info": {
   "codemirror_mode": {
    "name": "ipython",
    "version": 3
   },
   "file_extension": ".py",
   "mimetype": "text/x-python",
   "name": "python",
   "nbconvert_exporter": "python",
   "pygments_lexer": "ipython3",
   "version": "3.10.8"
  },
  "vscode": {
   "interpreter": {
    "hash": "f84259a3b330308de677e904dd70af8e4d9960a0b20e6e297421ba1b1b840763"
   }
  }
 },
 "nbformat": 4,
 "nbformat_minor": 5
}
