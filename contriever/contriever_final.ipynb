{
 "cells": [
  {
   "cell_type": "code",
   "execution_count": 1,
   "id": "a72a61f5",
   "metadata": {},
   "outputs": [
    {
     "name": "stderr",
     "output_type": "stream",
     "text": [
      "/home/avd6/utils/miniconda3/envs/torch/lib/python3.9/site-packages/tqdm/auto.py:22: TqdmWarning: IProgress not found. Please update jupyter and ipywidgets. See https://ipywidgets.readthedocs.io/en/stable/user_install.html\n",
      "  from .autonotebook import tqdm as notebook_tqdm\n"
     ]
    }
   ],
   "source": [
    "# importing required libraries\n",
    "\n",
    "import pandas as pd\n",
    "import numpy as np\n",
    "import json\n",
    "import re\n",
    "import os\n",
    "import torch\n",
    "from transformers import AutoTokenizer, AutoModel"
   ]
  },
  {
   "cell_type": "code",
   "execution_count": 22,
   "id": "8074279e",
   "metadata": {},
   "outputs": [],
   "source": [
    "# creating the class\n",
    "\n",
    "class ContrieverCB:\n",
    "    def __init__(self):\n",
    "        self.embeddings = {}\n",
    "    \n",
    "    \n",
    "    def clean(self, text: str) -> str:\n",
    "        \"\"\"\n",
    "        Function to remove newline from text.\n",
    "        :param text: input string\n",
    "        :return: string without newline\n",
    "        \"\"\"\n",
    "        new_text = re.sub('\\n', '', text)\n",
    "        return new_text\n",
    "    \n",
    "    \n",
    "    def mean_pooling(self, token_embeddings, mask):\n",
    "        \"\"\"\n",
    "        Function to be used after model is applied to tokenized text to generate embeddings.\n",
    "        Used in the HuggingFace version.\n",
    "        :param token_embeddings: output of model\n",
    "        :param mask: attention mask of the tokens\n",
    "        :return: tensors of the text\n",
    "        \"\"\"\n",
    "        token_embeddings = token_embeddings.masked_fill(~mask[..., None].bool(), 0.)\n",
    "        sentence_embeddings = token_embeddings.sum(dim=1) / mask.sum(dim=1)[..., None]\n",
    "        return sentence_embeddings\n",
    "    \n",
    "    \n",
    "    def generate_embeddings(self, path_to_json: str, path_to_output: str) -> None:\n",
    "        \"\"\"\n",
    "        Function takes input json filepath, generates numpy embeddings of the file and\n",
    "        saves them at the given output filepath.\n",
    "        :param path_to_json: input filepath\n",
    "        :param path_to_output: output filepath\n",
    "        :return: None\n",
    "        \"\"\"\n",
    "        #tokenizer = AutoTokenizer.from_pretrained('facebook/contriever-msmarco')\n",
    "        tokenizer = AutoTokenizer.from_pretrained('/mnt/project/chatbotai/asmita/output/facebook-contriever-msmarco-2023-02-12_18-47-40/final')\n",
    "        #model = AutoModel.from_pretrained('facebook/contriever-msmarco')\n",
    "        model = AutoModel.from_pretrained('/mnt/project/chatbotai/asmita/output/facebook-contriever-msmarco-2023-02-12_18-47-40/final')\n",
    "        \n",
    "        # open and read the input json file\n",
    "        file = open(path_to_json)\n",
    "        json_data = json.load(file)\n",
    "        \n",
    "        n = int(len(json_data)/100)\n",
    "        embeddings_list = []\n",
    "        \n",
    "        # take 100 units at a time and process it\n",
    "        for k in range(n):\n",
    "            if k==n:\n",
    "                start = k*100\n",
    "                end = (list(json_data.keys())[-1])\n",
    "            else:\n",
    "                start = k*100\n",
    "                end = k*100+99\n",
    "                \n",
    "            for i in range(start, end):\n",
    "                text = json_data[i]['text']\n",
    "                text = self.clean(text)\n",
    "                tokenized_text = tokenizer(text, padding=True, truncation=True, return_tensors='pt')\n",
    "                output = model(**tokenized_text)\n",
    "                embeddings = self.mean_pooling(output[0], tokenized_text['attention_mask'])\n",
    "                embeddings_np = embeddings.detach().numpy()\n",
    "                embeddings_list.append(embeddings_np)\n",
    "                \n",
    "        # convert embeddings list to numpy array\n",
    "        embeddings_array = np.array(embeddings_list)\n",
    "        \n",
    "        # reshape the numpy array\n",
    "        x = embeddings_array.shape[0]\n",
    "        y = embeddings_array.shape[2]\n",
    "        embeddings_array.reshape((x,y))\n",
    "        \n",
    "        # save the embeddings in a numpy file\n",
    "        # filename = path_to_json.split('\\\\')[-1].split('.')[0]\n",
    "        # filepath = os.path.join(path_to_output, filename)\n",
    "        filepath = path_to_output\n",
    "        \n",
    "        # saving the embeddings as a numpy file in the destination folder\n",
    "        np.save(filepath, embeddings_array)\n",
    "        \n",
    "        # saving the embeddings into a dictionary\n",
    "        self.embeddings[path_to_json] = embeddings_array\n",
    "        \n",
    "    \n",
    "    def retrieve_topk(self, search_string: str, path_to_json: str, k: int):\n",
    "        \"\"\"\n",
    "        Function takes json data as input and returns the topk relative to the data\n",
    "        :param search_string: query to match and retrieve\n",
    "        :param path_to_json: filepath of data to search\n",
    "        :param k: number of embeddings to retrieve\n",
    "        :return: top k units relative to the input file\n",
    "        \"\"\"\n",
    "        \n",
    "        # check if the embeddings are loaded in dictionary already\n",
    "        if not (path_to_json in self.embeddings):\n",
    "            \n",
    "            # changing .json to .npy\n",
    "            filename = os.path.splitext(path_to_json)[0]\n",
    "            path_to_npy = filename + '.npy'\n",
    "            \n",
    "            # check if .npy exists and load into dictionary\n",
    "            if os.path.exists(path_to_npy):\n",
    "                self.embeddings[path_to_json] = np.load(path_to_npy)\n",
    "            else:\n",
    "                # .npy doesn't exist, so generate embeddings\n",
    "                self.generate_embeddings(path_to_json, path_to_npy)\n",
    "        \n",
    "        # convert numpy embeddings to tensors\n",
    "        embeddings = torch.from_numpy(self.embeddings[path_to_json])\n",
    "        \n",
    "        # convert query to tensor\n",
    "        #tokenizer = AutoTokenizer.from_pretrained('facebook/contriever-msmarco')\n",
    "        tokenizer = AutoTokenizer.from_pretrained('/mnt/project/chatbotai/asmita/output/facebook-contriever-msmarco-2023-02-12_18-47-40/final')\n",
    "        #model = AutoModel.from_pretrained('facebook/contriever-msmarco')\n",
    "        model = AutoModel.from_pretrained('/mnt/project/chatbotai/asmita/output/facebook-contriever-msmarco-2023-02-12_18-47-40/final')\n",
    "        \n",
    "        tokenized_query = tokenizer(search_string, padding=True, truncation=True, return_tensors='pt')\n",
    "        output_query = model(**tokenized_query)\n",
    "        embedded_query = self.mean_pooling(output_query[0], tokenized_query['attention_mask'])\n",
    "        \n",
    "        # creating a dictionary of scores\n",
    "        scores_list = []\n",
    "        for i in range(len(embeddings)):\n",
    "            score = embeddings[i]@embedded_query[0]\n",
    "            score_np = score.detach().numpy()[0]\n",
    "            scores_list.append([i, score_np])\n",
    "            \n",
    "        scores_df = pd.DataFrame(scores_list, columns=['ID', 'Score'])\n",
    "        \n",
    "        # retrieving top k scores\n",
    "        topk_scores = scores_df.nlargest(k, 'Score')\n",
    "        \n",
    "        # retrieving the text data corresponding to the top k indices\n",
    "        topk_context = {}\n",
    "        \n",
    "        json_file = open(path_to_json)\n",
    "        json_data = json.load(json_file)\n",
    "        \n",
    "        for row in topk_scores.iterrows():\n",
    "            ind = int(row[1]['ID'])\n",
    "            text = json_data[ind]['text']\n",
    "            topk_context[ind] = text\n",
    "        \n",
    "        return topk_context"
   ]
  },
  {
   "cell_type": "code",
   "execution_count": 12,
   "id": "99401570",
   "metadata": {},
   "outputs": [],
   "source": [
    "# loading dataset\n",
    "file = open(\"/mnt/project/chatbotai/asmita/non-public-datasets/cleaned_data/ece120_notes/ece120_notes_cleaned.json\")\n",
    "data = json.load(file)"
   ]
  },
  {
   "cell_type": "code",
   "execution_count": 23,
   "id": "f419b8e3",
   "metadata": {},
   "outputs": [],
   "source": [
    "filepath = \"/mnt/project/chatbotai/asmita/non-public-datasets/cleaned_data/ece120_notes/ece120_notes_cleaned.json\""
   ]
  },
  {
   "cell_type": "code",
   "execution_count": 20,
   "id": "04496c3d",
   "metadata": {},
   "outputs": [],
   "source": [
    "contriever = ContrieverCB()\n",
    "query = \"How does the design of a finite state machine differ from that of a counter?\"\n",
    "topk = contriever.retrieve_topk(query, filepath, 5)"
   ]
  },
  {
   "cell_type": "code",
   "execution_count": 21,
   "id": "b27dcfa2",
   "metadata": {},
   "outputs": [
    {
     "data": {
      "text/plain": [
       "{98: '3.2 Finite State Machine Design Examples, Part I 99 3.2.11 Impact of the State Representation What happens if we choose a bad representation? For the same FSM —the two-bit Gray code counter with start and stop inputs—the table below shows a poorly chosen mappin g from states to internal state repre- sentation. Below the table is a diagram of an implementation using that representation. Verifying that the implementation’s behavior is correct is left as an exercise for the det ermined reader. state S2S1S0 state S2S1S0 COUNT A 000 HALT A 111 COUNT B 101 HALT B 110 COUNT C 011 HALT C 100 COUNT D 010 HALT D 001 D QQ S0D QQ S1D QQ S2 G (go button)a controllable two−bit counter (with poorly chosen state values) Z1 Z0CLOCK H(halt button)',\n",
       " 90: '3.2 Finite State Machine Design Examples, Part I 91 Notice that the equations for S+ 2andS+ 1share a com- mon term, S1S0. This design does not allow much choice in developing good equations for the next-state logic, but some designs may enable you to reduce the designcomplexity byexplicitly identifying and making use ofcommonalgebraicterms andsub-expressionsfor diﬀerent outputs. In modern design processes, identi- fying such opportunities is generally performed by a computer program, but it’s important to understand howthey arise. Notethat thecommontermbecomesa single AND gate in the implementation of our counter, as shown to the right. Looking at the counter’s implementation diagram, no- tice that the vertical lines carrying the current state values and their inverses back to the next state logic inputs have been carefully ordered to simplify under- standing the diagram. In particular, they are ordered from left to right (on the left side of the ﬁgure) as S0S0S1S1S2S2. When designing any logic diagram, be sure to make use of a reasonable order so as to make it easy for someone (including yourself!) to read and check the correctness of the logic.D QQ S1 D QQ S0D QQ S2 Z0Z1Z2CLOCK a three−bit Gray code counter 3.2.4 Example: A Color Sequencer Early graphics systems used a three-bit red-green-blue (RGB) en coding for colors. The color mapping for such a system is shown to the right. Imagine that you are charged with creating a counter to drive a light through a sequence of colors. The light takes an RGB input as just described , and the desired pattern is oﬀ (black) yellow violet green blue You immediately recognize that you merely need a counter with ﬁve st ates. How many ﬂip-ﬂops will we need? At least three, since ⌈log2(5)⌉= 3. Given that we need three ﬂip-ﬂops, and that the colors we need to p roduce asRGBcolor 000black 001blue 010green 011cyan 100red 101violet 110yellow 111white outputs are all unique bit patterns, we can again choose to use the counter’s internal state directly as our output values. A fully-speciﬁed transition diagram for our color sequencer appears to the right. The states again form a loop, and are marked with the internal state value S2S1S0and the output RGB.000/000BLACK YELLOW VIOLET 110/110 101/101GREEN 010/010BLUE 001/001 As before, we can use the transition dia- gramtoﬁllinK-mapsforthenext-stateval- uesS+ 2,S+ 1, andS+ 0, as shown to the right. For each of the three states not included in ourtransitiondiagram,we haveinsertedx’sS2+S2 S1S0 00 01 11 10 0 10 11 x 0 x 0 xS2+S1 S1S0 00 01 11 10 0 101 x 0 x x1 0S2+S0 S1S0 00 01 11 10 0 10 1x x 0 x0 1 into the K-maps to indicate “don’t care.” As you know, we can treat e ach x as either a 0 or a 1, whichever produces better results (where “better” usually means simpler eq uations). The terms that we have chosen for our algebraic equations are illustrated in the K-maps. The x’s with in the ellipses become 1s in the implementation, and the x’s outside of the ellipses become 0s.',\n",
       " 94: '3.2 Finite State Machine Design Examples, Part I 95 For our counter, the symmetry between counting states makes the problem substantially simpler. Let’s write out part of a list of states and part of a state table with one counting state and one halt state, as shown to the right. Four values of the inputs HGare possible (recall that Nbits allow 2Npossible patterns). We list the columns in Gray code order, since we may want to transcribe this ta- ble into K-maps later.state description ﬁrst counting state COUNT A counting, output Z1Z0= 00 ﬁrst halted state HALT A halted, output Z1Z0= 00 HG state 00 01 11 10 COUNT A COUNT B unspeciﬁed unspeciﬁed HALT A HALT A HALT A COUNT B unspeciﬁed unspeciﬁed Let’s start with the COUNT A state. We know that if neither button is pressed ( HG= 00), we want the counter to move to the COUNT B state. And, if we press the “halt” b utton (HG= 10), we want the counter to move to the HALT A state. What should happen if a user presses t he “go” button ( HG= 01)? Or if the user presses both buttons ( HG= 11)? Answering these questions is part of fully specifying our desig n. We can choose to leave some parts unspeciﬁed, but any implementation of our system will imply answers , and thus we must be careful. We choose to ignore the “go” button w hile counting, and to have the “halt” button override the “go” button. Thus, if HG= 01 when the counter is in state COUNT A, the counter moves to state COUNT B. And, if HG= 11, the counter moves to state HALT A. Use of explicit bit patterns for the inputs HGmay help you to check that all four possible input values are covered from each state. If you choose to use a transition diagra m instead of a state table, you might even want to add four arcs from each state, each labeled with a speciﬁc v alue ofHG. When two arcs connect the same two states, we can either use multiple labels or can indicate bits t hat do not matter using a don’t-care symbol,x. For example, the arc from state COUNT A to state COUNT B could be labeledHG= 00,01 or HG= 0x. The arc from state COUNT A to state HALT A could be labeled HG= 10,11 orHG= 1x. We can also use logical expressions as labels, but such notation can obs cure unspeciﬁed transitions. Now consider the state HALT A. The transitions speciﬁed so far are that when we press “go”( HG= 01), the counter moves to the COUNT B state, and that the counter remain s halted in state HALT A if no buttons are pressed ( HG= 00). What if the “halt” button is pressed ( HG= 10), or both buttons are pressed (HG= 11)? For consistency, we decide that “halt” overrides “go,” but d oes nothing special if it alone is pressed while the counter is halted. Thus, input patterns HG= 10 and HG= 11 also take state HALT A back to itself. Here the arc could be labeled HG= 00,10,11 or, equivalently, HG= 00,1xorHG=x0,11. To complete our design, we apply the same decisions that we made for the COUNT A state to all of the other counting states, and the decisions that we made for the HALT A state to all of the other halted states. If we had chosen not to specify an answer, an imple- mentation could produce diﬀerent behavior from the diﬀerent counting and/or halted states, which might confuse a user. The resulting design appears to the right.HG=0x HG=1xHG=0x HG=01 HG=01HG=0x HG=0x HG=1x HG=1x HG=1x HG=01 HG=01 HG=x0,11 HG=x0,11 HG=x0,11 HG=x0,11COUNT A /00COUNT B COUNT C COUNT D /10 /01 /11 HALT A /00HALT B /01HALT C /11HALT D /10 3.2.9 Choosing a State Representation Now we need to select a representation for the states. Since our c ounter has eight states, we need at least three (⌈log2(8)⌉= 3) state bits S2S1S0to keep track of the current state. As we show later, the choice of representation for an FSM’s states can dramatically aﬀec t the design complexity . For a design as simple as our counter, you could just let a computer implement all possible r epresentations (there aren’t more than 840, if we consider simple symmetries) and select one according to whatever metrics are interesting. For bigger designs, however, the number of possibilities quickly beco mes impossible to explore completely.',\n",
       " 96: '3.2 Finite State Machine Design Examples, Part I 97 3.2.10 Abstracting Design Symmetries Rather than implementing the design as two-level logic, let’s try to ta ke advantage of our design’s symmetry to further simplify the logic (we reduce gate count at the expense o f longer, slower paths). Looking back to the last transition diagram, in which the arcs were lab eled with logical expressions, let’s calculate an expression for when the counter should retain its curr ent value in the next cycle. We call this variableHOLD. In the counting states, when S2= 0, the counter stops (moves into a halted state without changing value) when His true. In the halted states, when S2= 1, the counter stops (stays in a halted state) when H+Gis true. We can thus write HOLD =S2·H+S2·(H+G) HOLD =S2H+S2H+S2G HOLD =H+S2G In other words, the counter should hold its current value (stop co unting) if we press the “halt” button or if the counter was already halted and we didn’t press the “go” button . As desired, the current value of the counter ( S1S0) has no impact on this decision. You may have noticed that the expre ssion we derived for HOLDalso matches S+ 2, the next-state value of S2in the K-map on the previous page. Now let’s re-write our state transition table in terms of HOLD. The left version uses state names for clarity; the right uses state values to help us transcribe K-maps. HOLD state S2S1S0 0 1 COUNT A 000 COUNT B HALT A COUNT B 001 COUNT C HALT B COUNT C 011 COUNT D HALT C COUNT D 010 COUNT A HALT D HALT A 100 COUNT B HALT A HALT B 101 COUNT C HALT B HALT C 111 COUNT D HALT C HALT D 110 COUNT A HALT DHOLD state S2S1S00 1 COUNT A 000 001 100 COUNT B 001 011 101 COUNT C 011 010 111 COUNT D 010 000 110 HALT A 100 001 100 HALT B 101 011 101 HALT C 111 010 111 HALT D 110 000 110 The K-maps based on the HOLDabstrac- tion are shown to the right. As you can see, the necessary logic has been simpliﬁed substantially, requiring only two terms each forbothS+ 1andS+ 0. Writingthe next-state logic algebraically, we obtain S+ 2=HOLD S+ 1=HOLD·S0+HOLD·S1 S+ 0=HOLD·S1+HOLD·S0+S2 HOLD  S2 00 00 1111 S1S000 01 11 10 00 1 11 1 0 000 01 11 10+S1 HOLD  S2 0 0 00 S1S000 01 11 10 00 1 100 111 11100 01 11 10+S0 HOLD  S2 0 0 S1S000 01 11 10 0000 01 11 100 0 1 11 111 1 01 0 Notice the similarity between the equations for S+ 1S+ 0and the equations for a 2-to-1 mux: when HOLD= 1, the counter retains its state, and when HOLD= 0, it counts.',\n",
       " 84: '3.1 Serialization and Finite State Machines 85 The design of synchronous counter circuits is a fairly straightforw ard exercise given the desired cycle of output patterns. The task can be more c omplex if the internal state bits are allowed to diﬀer from the output bits, so for now we assume that output Ziis equal to internal bit Si. Note that distinction between internal states and outputs is necessary if any output p attern appears more than once in the desired cycle. The cycle ofstates shown to the right correspondsto the states of a 3-bit binary counter. The numbers in the states represent both internal sta te bitsS2S1S0 and output bits Z2Z1Z0. We transcribe this diagram into the next-state table shown on the left below. We then write out K-maps for the next stat e bitsS+ 2, S+ 1, andS+ 0, as shown to the right, and use the K-maps to ﬁnd expressions for these variables in terms of the current state.3−bit binary counter cycle000 110111 101 011 100001 010 S2S1S0S+ 2S+ 1S+ 0 0 0 0 0 0 1 0 0 1 0 1 0 0 1 0 0 1 1 0 1 1 1 0 0 1 0 0 1 0 1 1 0 1 1 1 0 1 1 0 1 1 1 1 1 1 0 0 0S2+S2 S1S0 00 01 11 10 0 10 10 1 01 0 1S2S1S0+S1 00 01 11 10 0 1 10 1 01 1 0 0S2S1S0+S0 0 000 01 11 10 0 1 1010 11 S+ 2=¯S2S1S0+S2¯S1+S2¯S0=S2⊕(S1S0) S+ 1= S1¯S0+¯S1S0=S1⊕S0 S+ 0= ¯S0 =S0⊕1 The ﬁrst form of the expression for each next-state variable is ta ken directly from the corresponding K-map. We have rewritten each expression to make the emerging pattern m ore obvious. We can also derive the pat- tern intuitively by asking the following: given a binary counter in state SN−1SN−2...Sj+1SjSj−1...S1S0, when does Sjchange in the subsequent state? The answer, of course, is that Sjchanges when all of the bits belowSjare 1. Otherwise, Sjremains the same in the next state. We thus write S+ j=Sj⊕(Sj−1...S1S0) and implement the counter as shown below for a 4-bit design. Note th at the usual order of output bits along the bottom is reversed in the ﬁgure, with the most signiﬁcant bit at t he right rather than the left. S3D QQ S1D QQ S2 S0D QQ D QQa 4−bit synchronous binary counter with serial gating Z1 Z2 Z3 Z0CLK The calculation of the left inputs to the XOR gates in the counter sho wn above is performed with a series of two-input AND gates. Each of these gates AND’s another ﬂip-ﬂop v alue into the product. This approach, calledserial gating , implies that an N-bit counter requires more than N−2 gate delays to settle into the next state. An alternative approach, called parallel gating , calculates each input independently with a'}"
      ]
     },
     "execution_count": 21,
     "metadata": {},
     "output_type": "execute_result"
    }
   ],
   "source": [
    "# test with original model\n",
    "topk"
   ]
  },
  {
   "cell_type": "code",
   "execution_count": 26,
   "id": "c1dcf2e2",
   "metadata": {},
   "outputs": [
    {
     "name": "stderr",
     "output_type": "stream",
     "text": [
      "Some weights of the model checkpoint at /mnt/project/chatbotai/asmita/output/facebook-contriever-msmarco-2023-02-12_18-47-40/final were not used when initializing BertModel: ['classifier.bias', 'classifier.weight']\n",
      "- This IS expected if you are initializing BertModel from the checkpoint of a model trained on another task or with another architecture (e.g. initializing a BertForSequenceClassification model from a BertForPreTraining model).\n",
      "- This IS NOT expected if you are initializing BertModel from the checkpoint of a model that you expect to be exactly identical (initializing a BertForSequenceClassification model from a BertForSequenceClassification model).\n"
     ]
    }
   ],
   "source": [
    "contriever = ContrieverCB()\n",
    "query = \"How does the design of a finite state machine differ from that of a counter?\"\n",
    "topk = contriever.retrieve_topk(query, filepath, 10)"
   ]
  },
  {
   "cell_type": "code",
   "execution_count": 27,
   "id": "523d16ec",
   "metadata": {},
   "outputs": [
    {
     "data": {
      "text/plain": [
       "{88: '3.2 Finite State Machine Design Examples, Part I 89 ECE120: Introduction to Computer Engineering Notes Set 3.2 Finite State Machine Design Examples, Part I This set of notes uses a series of examples to illustrate design princip les for the implementation of ﬁnite state machines (FSMs) using digital logic. We begin with an overview of the design process for a digital FSM, from the development of an abstract model through the imple mentation of functions for the next-state variables and output signals. Our ﬁrst few examples cover only the c oncrete aspects: we implement several counters, which illustrate the basic process of translating a concr ete and complete state transition diagram into an implementation based on ﬂip-ﬂops and logic gates. We next con sider a counter with a number of states that is not a power of two, with which we illustrate the need fo r FSM initialization. We then consider the design process as a whole through a more gene ral example of a counter with multiple inputs to control its behavior. We work from an abstract model do wn to an implementation, illustrating how semantic knowledge from the abstract model can be used to sim plify the implementation. Finally, we illustrate how the choice of representation for the FSM’s internal s tate aﬀects the complexity of the imple- mentation. Fortunately, designs that are more intuitive and easier for humans to understand also typically make the best designs in terms of other metrics, such as logic comple xity. 3.2.1 Steps in the Design Process Before we begin exploring designs, let’s talk brieﬂy about the genera l approach that we take when designing an FSM. We follow a six-step process: 1. develop an abstract model 2. specify I/O behavior 3. complete the speciﬁcation 4. choose a state representation 5. calculate logic expressions 6. implement with ﬂip-ﬂops and gates In Step 1, we translate our description in human language into a mode l with states and desired behavior. At this stage, we simply try to capture the intent of the description and are not particularly thorough nor exact. Step 2 begins to formalize the model, starting with its input and outpu t behavior. If we eventually plan to develop an implementation of our FSM as a digital system (which is no t the only choice, of course!), all input and output must consist of bits. Often, input and/or output speciﬁcations may need to match other digital systems to which we plan to connect our FSM. In fact, most problems in developing large digital systems today arise because of incompatibilities when comp osing two or more separately designed pieces (or modules ) into an integrated system. Once we know the I/O behavior for our FSM, in Step 3 we start to mak e any implicit assumptions clear and to make any other decisions necessary to the design. Occasion ally, we may choose to leave something undecided in the hope of simplifying the design with “don’t care” entrie s in the logic formulation. In Step 4, we select an internal representation for the bits neces sary to encode the state of our FSM. In practice, for small designs, this representationcan be selected b y a computer in such a way as to optimize the implementation. However, for large designs, such as the LC-3 instr uction set architecture that we study later in this class, humans do most of the work by hand. In the later examp les in this set of notes, we show how even a small design can leverage meaningful information from the de sign when selecting the representation, leading to an implementation that is simpler and is easier to build correct ly. We also show how one can use abstraction to simplify an implementation. By Step 5, our design is a complete speciﬁcation in terms of bits, and w e need merely derive logic expressions for the next-state variables and the output signals. This process is no diﬀerent than for combinational logic, and should already be fairly familiar to you.',\n",
       " 81: '82  3.1.3 Finite State Machines Aﬁnite state machine (orFSM) is a model for understanding the behavior of a system by describin g the system as occupying one of a ﬁnite set of states, moving betwe en these states in response to external inputs, and producing external outputs. In any given state, a pa rticular input may cause the FSM to move to another state; this combination is called a transition rule . An FSM comprises ﬁve parts: a ﬁnite set of states, a set of possible inputs, a set of possible outputs, a set of transition rules, and methods for calculating outputs. When an FSM is implemented as a digital system, all states must be rep resented as patterns using a ﬁxed number of bits, all inputs must be translated into bits, and all outpu ts must be translated into bits. For a digital FSM, transition rules must be complete ; in other words, given any state of the FSM, and any pattern of input bits, a transition must be deﬁned from that state to another state (transitions from a state to itself, called self-loops , are acceptable). And, of course, calculation of outputs for a dig ital FSM reduces to Boolean logic expressions. In this class, we focus on clocked sync hronous FSM implementations, in which the FSM’s internal state bits are stored in ﬂip-ﬂops. In this section, we introduce the tools used to describe, develop, a nd analyze implementations of FSMs with digital logic. In the next few weeks, we will show you how an FSM can se rve as the central control logic in a computer. At the same time, we will illustrate connections between F SMs and software and will make some connections with other areas of interest in ECE, such as the design and analysis of digital control systems. The table below gives a list of abstract states for a typical keyless entry system for a car. In this case, we have merely named the states rather than specifying the bit pat terns to be used for each state—for this reason, we refer to them as abstract states. The description of the states in the ﬁrst column is an optional element often included in the early design stages for an FSM, when ide ntifying the states needed for the design. A list may also include the outputs for each state. Again, in th e list below, we have speciﬁed these outputs abstractly. By including outputs for each state, we implicit ly assume that outputs depend only on the state of the FSM. We discuss this assumption in more detail later in these notes (see “Machine Models”), but will make the assumption throughout our class. meaning state driver’s door other doors alarm on vehicle locked LOCKED locked locked no driver door unlocked DRIVER unlocked locked no all doors unlocked UNLOCKED unlocked unlocked no alarm sounding ALARM locked locked yes Another tool used with FSMs is the next-state table (sometimes called a state transition table , or just astate table ), which maps the current state and input combination into the next state of the FSM. The abstract variant shown below outlines desired behavior at a high leve l, and is often ambiguous, incomplete, and even inconsistent. For example, what happens if a user pushes two buttons? What happens if they push unlock while the alarm is sounding? These questions should event ually be considered. However, we can already start to see the intended use of the design: starting f rom a locked car, a user can push “unlock” once to gain entry to the driver’s seat, or push “unlock” twice to op en the car fully for passengers. To lock the car, a user can push the “lock” button at any time. And, if a use r needs help, pressing the “panic” button sets oﬀ an alarm. state action/input next state LOCKED push “unlock” DRIVER DRIVER push “unlock” UNLOCKED (any) push “lock” LOCKED (any) push “panic” ALARM',\n",
       " 84: '3.1 Serialization and Finite State Machines 85 The design of synchronous counter circuits is a fairly straightforw ard exercise given the desired cycle of output patterns. The task can be more c omplex if the internal state bits are allowed to diﬀer from the output bits, so for now we assume that output Ziis equal to internal bit Si. Note that distinction between internal states and outputs is necessary if any output p attern appears more than once in the desired cycle. The cycle ofstates shown to the right correspondsto the states of a 3-bit binary counter. The numbers in the states represent both internal sta te bitsS2S1S0 and output bits Z2Z1Z0. We transcribe this diagram into the next-state table shown on the left below. We then write out K-maps for the next stat e bitsS+ 2, S+ 1, andS+ 0, as shown to the right, and use the K-maps to ﬁnd expressions for these variables in terms of the current state.3−bit binary counter cycle000 110111 101 011 100001 010 S2S1S0S+ 2S+ 1S+ 0 0 0 0 0 0 1 0 0 1 0 1 0 0 1 0 0 1 1 0 1 1 1 0 0 1 0 0 1 0 1 1 0 1 1 1 0 1 1 0 1 1 1 1 1 1 0 0 0S2+S2 S1S0 00 01 11 10 0 10 10 1 01 0 1S2S1S0+S1 00 01 11 10 0 1 10 1 01 1 0 0S2S1S0+S0 0 000 01 11 10 0 1 1010 11 S+ 2=¯S2S1S0+S2¯S1+S2¯S0=S2⊕(S1S0) S+ 1= S1¯S0+¯S1S0=S1⊕S0 S+ 0= ¯S0 =S0⊕1 The ﬁrst form of the expression for each next-state variable is ta ken directly from the corresponding K-map. We have rewritten each expression to make the emerging pattern m ore obvious. We can also derive the pat- tern intuitively by asking the following: given a binary counter in state SN−1SN−2...Sj+1SjSj−1...S1S0, when does Sjchange in the subsequent state? The answer, of course, is that Sjchanges when all of the bits belowSjare 1. Otherwise, Sjremains the same in the next state. We thus write S+ j=Sj⊕(Sj−1...S1S0) and implement the counter as shown below for a 4-bit design. Note th at the usual order of output bits along the bottom is reversed in the ﬁgure, with the most signiﬁcant bit at t he right rather than the left. S3D QQ S1D QQ S2 S0D QQ D QQa 4−bit synchronous binary counter with serial gating Z1 Z2 Z3 Z0CLK The calculation of the left inputs to the XOR gates in the counter sho wn above is performed with a series of two-input AND gates. Each of these gates AND’s another ﬂip-ﬂop v alue into the product. This approach, calledserial gating , implies that an N-bit counter requires more than N−2 gate delays to settle into the next state. An alternative approach, called parallel gating , calculates each input independently with a',\n",
       " 90: '3.2 Finite State Machine Design Examples, Part I 91 Notice that the equations for S+ 2andS+ 1share a com- mon term, S1S0. This design does not allow much choice in developing good equations for the next-state logic, but some designs may enable you to reduce the designcomplexity byexplicitly identifying and making use ofcommonalgebraicterms andsub-expressionsfor diﬀerent outputs. In modern design processes, identi- fying such opportunities is generally performed by a computer program, but it’s important to understand howthey arise. Notethat thecommontermbecomesa single AND gate in the implementation of our counter, as shown to the right. Looking at the counter’s implementation diagram, no- tice that the vertical lines carrying the current state values and their inverses back to the next state logic inputs have been carefully ordered to simplify under- standing the diagram. In particular, they are ordered from left to right (on the left side of the ﬁgure) as S0S0S1S1S2S2. When designing any logic diagram, be sure to make use of a reasonable order so as to make it easy for someone (including yourself!) to read and check the correctness of the logic.D QQ S1 D QQ S0D QQ S2 Z0Z1Z2CLOCK a three−bit Gray code counter 3.2.4 Example: A Color Sequencer Early graphics systems used a three-bit red-green-blue (RGB) en coding for colors. The color mapping for such a system is shown to the right. Imagine that you are charged with creating a counter to drive a light through a sequence of colors. The light takes an RGB input as just described , and the desired pattern is oﬀ (black) yellow violet green blue You immediately recognize that you merely need a counter with ﬁve st ates. How many ﬂip-ﬂops will we need? At least three, since ⌈log2(5)⌉= 3. Given that we need three ﬂip-ﬂops, and that the colors we need to p roduce asRGBcolor 000black 001blue 010green 011cyan 100red 101violet 110yellow 111white outputs are all unique bit patterns, we can again choose to use the counter’s internal state directly as our output values. A fully-speciﬁed transition diagram for our color sequencer appears to the right. The states again form a loop, and are marked with the internal state value S2S1S0and the output RGB.000/000BLACK YELLOW VIOLET 110/110 101/101GREEN 010/010BLUE 001/001 As before, we can use the transition dia- gramtoﬁllinK-mapsforthenext-stateval- uesS+ 2,S+ 1, andS+ 0, as shown to the right. For each of the three states not included in ourtransitiondiagram,we haveinsertedx’sS2+S2 S1S0 00 01 11 10 0 10 11 x 0 x 0 xS2+S1 S1S0 00 01 11 10 0 101 x 0 x x1 0S2+S0 S1S0 00 01 11 10 0 10 1x x 0 x0 1 into the K-maps to indicate “don’t care.” As you know, we can treat e ach x as either a 0 or a 1, whichever produces better results (where “better” usually means simpler eq uations). The terms that we have chosen for our algebraic equations are illustrated in the K-maps. The x’s with in the ellipses become 1s in the implementation, and the x’s outside of the ellipses become 0s.',\n",
       " 64: '2.6 Sequential Logic 65 ECE120: Introduction to Computer Engineering Notes Set 2.6 Sequential Logic These notes introduce logic components for storing bits, building up from the idea of a pair of cross-coupled inverters through an implementation of a ﬂip-ﬂop, the storage abs tractions used in most modern logic design processes. We then introduce simple forms of timing diagrams, which we use to illustrate the behavior of a logic circuit. After commenting on the beneﬁts of using a clocked syn chronous abstraction when designing systems that store and manipulate bits, we illustrate timing issues an d explain how these are abstracted away in clocked synchronous designs. Sections marked with an asterisk are provided solely for you r interest, but you probably need to learn this material in later classes . 2.6.1 Storing One Bit So far we have discussed only implementation of Boolean functions: g iven some bits as input, how can we design a logic circuit to calculate the result of applying some function t o those bits? The answer to such questions is called combinational logic (sometimes combinatorial logic ), a name stemming from the fact that we are combining existing bits with logic, not storing new bits . You probably already know, however, that combinational logic alone is not suﬃcient to build a computer. We need the ability to store bits, and to change those bits. Logic des igns that make use of stored bits—bits that can be changed, not just wires to high voltage and ground—ar e calledsequential logic . The name comes from the idea that such a system moves through a sequence of stored bit patterns (the current stored bit pattern is called the stateof the system). Consider the diagramto the right. What is it? A 1-input NAND gate, or aninverterdrawnbadly? Ifyouthinkcarefullyabouthowthesetwo gates are built, you will realize that they are the same thing. Conceptually, we use two inverters to store a bit, but in most cases we make use of NA ND gates to simplify the mechanism for changing the stored bit. Take a look at the design to the right. Here we have taken two inverters (drawn as NAND gates) and coupled each gate’s output to the other’s input. What does the circuit do? Let’s make some guesses and see where they take us. Imagine that the value at Qis 0. In that case, the lower gate drives Pto 1. But Pdrives the upper gate, which forcesQto 0. In other words, this combination forms aQ PQ P 0 1 1 0 stable state of the system: once the gates reach this state, the y continue to hold these values. The ﬁrst row of the truth table to the right (outputs only) shows this state. What ifQ= 1, though? In this case, the lower gate forces Pto 0, and the upper gate in turn forces Qto 1. Another stable state! The Q= 1 state appears as the second row of the truth table. We have identiﬁed all of the stable states.5Notice that our cross-coupled inverters can store a bit. Unfortu - nately, we have no way to specify which value should be stored, nor t o change the bit’s value once the gates have settled into a stable state. What can we do? 5Most logic families also allow unstable states in which the v alues alternate rapidly between 0 and 1. These metastable states are beyond the scope of our class, but ensuring that th ey do not occur in practice is important for real designs.',\n",
       " 89: '90  Finally, in Step 6, we translate our logic expressions into gates and us e ﬂip-ﬂops (or registers) to hold the internal state bits of the FSM. In later notes, we use more complex building blocks when implementing an FSM, building up abstractions in order to simplify the design process in much the same way that we have shown for combinational logic. 3.2.2 Example: A Two-Bit Gray Code Counter Let’s begin with a two-bit Gray code counter with no inputs. As we men tioned in Notes Set 2.1, a Gray code is a cycle over all bit patterns of a certain length in which consec utive patterns diﬀer in exactly one bit. For simplicity, our ﬁrst few examples are based on counters and use the internal state of the FSM as the output values. You should already know how to design combinatio nal logic for the outputs if it were necessary. The inputs to a counter, if any, are typically limited to fu nctions such as starting and stopping the counter, controlling the counting direction, and resetting the counter to a particular state. A fully-speciﬁed transition diagram for a two-bit Gray code counter appears below. With no inputs, the states simply form a loop, with the counter moving from one state to the next each cycle. Each state in the diagram is marked with the internal state value S1S0(before the “/”) and the output Z1Z0(after the “/”), which are always equal for this counter. Based on the trans ition diagram, we can ﬁll in the K-maps for the next-state values S+ 1andS+ 0as shown to the right of the transition diagram, then derive algebra ic expressions in the usual way to obtain S+ 1=S0andS+ 0=S1. We then use the next-state logic to develop the implementation shown on the far right, completing our ﬁrst coun ter design. COUNT A COUNT B COUNT C COUNT D 00/00 01/01 11/11 10/100 1S1 S1S0 0 1+ 0 1 10 1S0 S1S0 0 1+ 0 1 01 0D QQ S1 D QQ S0Z1 Z0CLOCK a two−bit Gray code counter 3.2.3 Example: A Three-Bit Gray Code Counter Now we’ll add a third bit to our counter, but again use a Gray code as the basis for the state sequence. A fully-speciﬁed transition diagram for such a counter appears to the right. As before, with no inputs, the states simply form a loop, with the counter moving fromonestatetothenexteachcycle. Eachstateinthe diagramismarkedwiththeinternalstatevalue S2S1S0 (before “/”) and the output Z2Z1Z0(after “/”).COUNT A COUNT B COUNT C COUNT D 000/000 001/001 011/011 010/010 100/100 101/101 111/111 110/110COUNT E COUNT F COUNT G COUNT H Based on the transition diagram, we can ﬁll in the K-maps for the next-state values S+ 2, S+ 1, andS+ 0as shown to the right, then derive algebraic expressions. The results are more complex this time.S2+S2 S1S0 00 01 11 10 0 100 0 1 1110S2+S1 S1S0 00 01 11 10 0 10 01 1 1 100S2+S0 S1S0 00 01 11 10 0 1 1 01 01 0 1 0 For our next-state logic, we obtain: S+ 2=S2S0+S1S0 S+ 1=S2S0+S1S0 S+ 0=S2S1+S2S1',\n",
       " 87: '88  Why are we protecting you from the model used in practice? First, t iming issues add complexity to a topic that is complex enough for an introductory course. And, second, most software FSMs are Moore machines, so the abstraction is a useful one in that context, too. In many design contexts, the timing issues implied by a Mealy model can be relatively simple to manage. When working in a single clock domain, all of the input signals come from ﬂ ip-ﬂops in the same domain, and are thus stable for most of the clock cycle. Only rarely does one nee d to keep additional state to improve timing characteristics in these contexts. In contrast, when inter acting across clock domains, more care is sometimes needed to ensure correct behavior. We now illustrate the state reduction beneﬁt of the Mealy machine mo del with a simple example, an FSM that recognizes the pattern of a 0 followed by a 1 on a single input and outputs a 1 when it observes the pattern. As already mentioned, Mealy machines often require fewe r ﬂip-ﬂops. Intuitively, the number of combinations of states and inputs is greater than the number of co mbinations of states alone, and allowing a function to depend on inputs reduces the number of internal sta tes needed. A Mealy implementation of the FSM appears on the left below, and an ex ample timing diagram illustrating the FSM’s behavior is shown on the right. The machine shown below occ upies state A when the last bit seen was a 0, and state B when the last bit seen was a 1. Notice that t he transition arcs in the state diagram are labeled with two values instead of one. Since outputs can depend on input values as well as state, transitions in a Mealy machine are labeled with input/output co mbinations, while states are labeled only with their internal bits (or just their names, as shown below). L abeling states with outputs does not make sense for a Mealy machine, since outputs may vary with inputs. Notice that the outputs indicated on any given transition hold only until that transition is taken (at the ris ing clock edge), as is apparent in the timing diagram. When inputs are asynchronous, that is, not driven b y the same clock signal, output pulses from a Mealy machine can be arbitrarily short, which can lead to proble ms. OUTINCLK OUT falls at rising CLK OUT rises with INA 1/01/1 0/0 0/0B For a Moore machine, we must create a special state in which the out put is high. Doing so requires that we split state B into two states, a state C in which the last two bits seen w ere 01, and a state D in which the last two bits seen were 11. Only state C generates output 1. State D also becomes the starting state for the new state machine. The state diagram on the left below illustrates th e changes, using the transition diagram style that we introduced earlier to represent Moore machines. Not ice in the associated timing diagram that the output pulse lasts a full clock cycle. OUT rises with CLK OUT falls at rising CLKOUTCLK INA/0 C/1 D/001 0 101',\n",
       " 94: '3.2 Finite State Machine Design Examples, Part I 95 For our counter, the symmetry between counting states makes the problem substantially simpler. Let’s write out part of a list of states and part of a state table with one counting state and one halt state, as shown to the right. Four values of the inputs HGare possible (recall that Nbits allow 2Npossible patterns). We list the columns in Gray code order, since we may want to transcribe this ta- ble into K-maps later.state description ﬁrst counting state COUNT A counting, output Z1Z0= 00 ﬁrst halted state HALT A halted, output Z1Z0= 00 HG state 00 01 11 10 COUNT A COUNT B unspeciﬁed unspeciﬁed HALT A HALT A HALT A COUNT B unspeciﬁed unspeciﬁed Let’s start with the COUNT A state. We know that if neither button is pressed ( HG= 00), we want the counter to move to the COUNT B state. And, if we press the “halt” b utton (HG= 10), we want the counter to move to the HALT A state. What should happen if a user presses t he “go” button ( HG= 01)? Or if the user presses both buttons ( HG= 11)? Answering these questions is part of fully specifying our desig n. We can choose to leave some parts unspeciﬁed, but any implementation of our system will imply answers , and thus we must be careful. We choose to ignore the “go” button w hile counting, and to have the “halt” button override the “go” button. Thus, if HG= 01 when the counter is in state COUNT A, the counter moves to state COUNT B. And, if HG= 11, the counter moves to state HALT A. Use of explicit bit patterns for the inputs HGmay help you to check that all four possible input values are covered from each state. If you choose to use a transition diagra m instead of a state table, you might even want to add four arcs from each state, each labeled with a speciﬁc v alue ofHG. When two arcs connect the same two states, we can either use multiple labels or can indicate bits t hat do not matter using a don’t-care symbol,x. For example, the arc from state COUNT A to state COUNT B could be labeledHG= 00,01 or HG= 0x. The arc from state COUNT A to state HALT A could be labeled HG= 10,11 orHG= 1x. We can also use logical expressions as labels, but such notation can obs cure unspeciﬁed transitions. Now consider the state HALT A. The transitions speciﬁed so far are that when we press “go”( HG= 01), the counter moves to the COUNT B state, and that the counter remain s halted in state HALT A if no buttons are pressed ( HG= 00). What if the “halt” button is pressed ( HG= 10), or both buttons are pressed (HG= 11)? For consistency, we decide that “halt” overrides “go,” but d oes nothing special if it alone is pressed while the counter is halted. Thus, input patterns HG= 10 and HG= 11 also take state HALT A back to itself. Here the arc could be labeled HG= 00,10,11 or, equivalently, HG= 00,1xorHG=x0,11. To complete our design, we apply the same decisions that we made for the COUNT A state to all of the other counting states, and the decisions that we made for the HALT A state to all of the other halted states. If we had chosen not to specify an answer, an imple- mentation could produce diﬀerent behavior from the diﬀerent counting and/or halted states, which might confuse a user. The resulting design appears to the right.HG=0x HG=1xHG=0x HG=01 HG=01HG=0x HG=0x HG=1x HG=1x HG=1x HG=01 HG=01 HG=x0,11 HG=x0,11 HG=x0,11 HG=x0,11COUNT A /00COUNT B COUNT C COUNT D /10 /01 /11 HALT A /00HALT B /01HALT C /11HALT D /10 3.2.9 Choosing a State Representation Now we need to select a representation for the states. Since our c ounter has eight states, we need at least three (⌈log2(8)⌉= 3) state bits S2S1S0to keep track of the current state. As we show later, the choice of representation for an FSM’s states can dramatically aﬀec t the design complexity . For a design as simple as our counter, you could just let a computer implement all possible r epresentations (there aren’t more than 840, if we consider simple symmetries) and select one according to whatever metrics are interesting. For bigger designs, however, the number of possibilities quickly beco mes impossible to explore completely.',\n",
       " 98: '3.2 Finite State Machine Design Examples, Part I 99 3.2.11 Impact of the State Representation What happens if we choose a bad representation? For the same FSM —the two-bit Gray code counter with start and stop inputs—the table below shows a poorly chosen mappin g from states to internal state repre- sentation. Below the table is a diagram of an implementation using that representation. Verifying that the implementation’s behavior is correct is left as an exercise for the det ermined reader. state S2S1S0 state S2S1S0 COUNT A 000 HALT A 111 COUNT B 101 HALT B 110 COUNT C 011 HALT C 100 COUNT D 010 HALT D 001 D QQ S0D QQ S1D QQ S2 G (go button)a controllable two−bit counter (with poorly chosen state values) Z1 Z0CLOCK H(halt button)',\n",
       " 78: '3.1 Serialization and Finite State Machines 79 ECE120: Introduction to Computer Engineering Notes Set 3.1 Serialization and Finite State Machines The third part of our class builds upon the basic combinational and se quential logic elements that we developed in the second part. After discussing a simple application of stored state to trade between area and performance, we introduce a powerful abstraction for formalizin g and reasoning about digital systems, the Finite State Machine (FSM). General FSM models are broadly applicab le in a range of engineering contexts, including not only hardware and software design but also the design o f control systems and distributed systems. We limit our model so as to avoid circuit timing issues in your ﬁr st exposure, but provide some amount of discussion as to how, when, and why you should eventually learn the more sophisticated models. Through development a range of FSM examples, we illustrate importa nt design issues for these systems and motivateacoupleofmoreadvancedcombinationallogicdevicesthat canbe usedasbuilding blocks. Together with the idea of memory, another form of stored state, these elem ents form the basis for development of our ﬁrst computer. At this point we return to the textbook, in whic h Chapters 4 and 5 provide a solid introduction to the von Neumann model of computing systems and t he LC-3 (Little Computer, version 3) instruction set architecture. By the end of this part of the cours e, you will have seen an example of the boundary between hardware and software, and will be ready to wr ite some instructions yourself. In this set of notes, we cover the ﬁrst few parts of this material. W e begin by describing the conversion of bit-sliced designs into serial designs, which store a single bit slice’s out put in ﬂip-ﬂops and then feed the outputs back into the bit slice in the next cycle. As a speciﬁc example, we use our bit-sliced comparator to discuss tradeoﬀs in area and performance. We introduce Finite S tate Machines and some of the tools used to design them, then develop a handful of simple counter desig ns. Before delving too deeply into FSM design issues, we spend a little time discussing other strategies for c ounter design and placing the material covered in our course in the broader context of digital system des ign. Remember that sections marked with an asterisk are provided solely for your interest, but you may need to learn this material in later classes. 3.1.1 Serialization: General Strategy In previous notes, we discussed and illustrated the development of bit-sliced logic, in which one designs a logic block to handle one bit of a multi-bit operation, then replicates th e bit slice logic to construct a design for the entire operation. We developed ripple carry adders in this wa y in Notes Set 2.3 and both unsigned and 2’s complement comparators in Notes Set 2.4. Another interesting design strategy is serialization : rather than replicating the bit slice, we can use ﬂip- ﬂops to store the bits passed from one bit slice to the next, then pr esent the stored bits to the same bit slice in the next cycle. Thus, in a serial design, we only need one copy of th e bit slice logic! The area needed for a serial design is usually much less than for a bit-sliced design, but such a design is also usually slower. After illustrating the general design strategy, we’ll consider thes e tradeoﬀs more carefully in the context of a detailed example. Recall the general bit-sliced design ap- proach, as illustrated to the right. Some number of copies of the logic for a single bit slice are connected in sequence. Each bit slice accepts Pbits of operand input and produces Qbits of external output. Adjacent bit slices receive an addi- tionalMbits of information from the previous bit slice and pass along Mbits to the next bit slice, generallyusing some representation chosen by the designer.P Qsecond bit sliceMP Qlast bit sliceMP QM Moutput logicRinitial values . . .first bit sliceresults per−slice outputsper−slice inputsa general bit−sliced design The ﬁrst bit slice is initialized by passing in constant values, and some ca lculation may be performed on the ﬁnal bit slice’s results to produce Rbits more external output.'}"
      ]
     },
     "execution_count": 27,
     "metadata": {},
     "output_type": "execute_result"
    }
   ],
   "source": [
    "# test with finetuned model\n",
    "topk"
   ]
  }
 ],
 "metadata": {
  "kernelspec": {
   "display_name": "torch",
   "language": "python",
   "name": "python3"
  },
  "language_info": {
   "codemirror_mode": {
    "name": "ipython",
    "version": 3
   },
   "file_extension": ".py",
   "mimetype": "text/x-python",
   "name": "python",
   "nbconvert_exporter": "python",
   "pygments_lexer": "ipython3",
   "version": "3.9.16"
  },
  "vscode": {
   "interpreter": {
    "hash": "7f735fd588b7c6f4be31a394ea98a29f04c55e74ca946db75b07edaa02b4f806"
   }
  }
 },
 "nbformat": 4,
 "nbformat_minor": 5
}
