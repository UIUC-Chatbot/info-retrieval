{
 "cells": [
  {
   "cell_type": "markdown",
   "id": "e0e6ce37",
   "metadata": {},
   "source": [
    "Notes: I have tested the retriever using previously generated embedding files and questions extracted from the gpt-3 generated QA pairs. I noticed that the contriever model works best on section embeddings and worst on sentence embeddings.\n",
    "The model does retrieve proper sections - tested using top 5 sections.\n"
   ]
  },
  {
   "cell_type": "code",
   "execution_count": 1,
   "id": "f4ef8030",
   "metadata": {},
   "outputs": [],
   "source": [
    "# importing required libraries\n",
    "\n",
    "import torch\n",
    "from transformers import AutoTokenizer, AutoModel\n",
    "import pandas as pd\n",
    "import json\n",
    "import re\n",
    "import numpy as np"
   ]
  },
  {
   "cell_type": "code",
   "execution_count": 2,
   "id": "01462e52",
   "metadata": {},
   "outputs": [],
   "source": [
    "tokenizer = AutoTokenizer.from_pretrained('facebook/contriever-msmarco')\n",
    "model = AutoModel.from_pretrained('facebook/contriever-msmarco')"
   ]
  },
  {
   "cell_type": "code",
   "execution_count": 3,
   "id": "b01ad4cd",
   "metadata": {},
   "outputs": [],
   "source": [
    "def mean_pooling(token_embeddings, mask):\n",
    "    token_embeddings = token_embeddings.masked_fill(~mask[..., None].bool(), 0.)\n",
    "    sentence_embeddings = token_embeddings.sum(dim=1) / mask.sum(dim=1)[..., None]\n",
    "    return sentence_embeddings"
   ]
  },
  {
   "cell_type": "code",
   "execution_count": 4,
   "id": "a1ee1874",
   "metadata": {},
   "outputs": [],
   "source": [
    "fp = open(\"paragraphs.json\")\n",
    "para_data = json.load(fp)\n",
    "\n",
    "fsec = open(\"sections.json\")\n",
    "section_data = json.load(fsec)\n",
    "\n",
    "fs = open(\"sentences.json\")\n",
    "sentence_data = json.load(fs)"
   ]
  },
  {
   "cell_type": "code",
   "execution_count": 5,
   "id": "af7bf452",
   "metadata": {},
   "outputs": [],
   "source": [
    "saved_section_embeddings = np.load('section_embeddings.npy')\n",
    "saved_para_embeddings = np.load('paragraph_embeddings.npy')\n",
    "saved_sentence_embeddings = np.load('sentence_embeddings.npy')"
   ]
  },
  {
   "cell_type": "code",
   "execution_count": 6,
   "id": "3d3ee459",
   "metadata": {},
   "outputs": [],
   "source": [
    "section_tensors = torch.from_numpy(saved_section_embeddings)\n",
    "para_tensors = torch.from_numpy(saved_para_embeddings)\n",
    "sentence_tensors = torch.from_numpy(saved_sentence_embeddings)"
   ]
  },
  {
   "cell_type": "code",
   "execution_count": 7,
   "id": "e9279f03",
   "metadata": {
    "scrolled": true
   },
   "outputs": [
    {
     "name": "stdout",
     "output_type": "stream",
     "text": [
      "144\n",
      "2078\n",
      "4243\n"
     ]
    }
   ],
   "source": [
    "print(len(section_data))\n",
    "print(len(para_data))\n",
    "print(len(sentence_data))"
   ]
  },
  {
   "cell_type": "code",
   "execution_count": 8,
   "id": "38d81d1d",
   "metadata": {},
   "outputs": [],
   "source": [
    "# cleaning the data\n",
    "\n",
    "def clean(text):\n",
    "    new_text = re.sub('\\n', '', text)\n",
    "    return new_text"
   ]
  },
  {
   "cell_type": "markdown",
   "id": "a1d6a042",
   "metadata": {},
   "source": [
    "Extracting questions from the gpt-3 sections data"
   ]
  },
  {
   "cell_type": "code",
   "execution_count": 73,
   "id": "af20f85f",
   "metadata": {},
   "outputs": [
    {
     "name": "stdout",
     "output_type": "stream",
     "text": [
      "length of section data: 144\n",
      "length of paragraph data: 1822\n"
     ]
    }
   ],
   "source": [
    "# loading the gpt-3 data\n",
    "\n",
    "fq = open(\"../data-generator/gpt-3/GPT-3_section_level.json\")\n",
    "gpt3_section_data = json.load(fq)\n",
    "print(\"length of section data:\", len(gpt3_section_data))"
   ]
  },
  {
   "cell_type": "code",
   "execution_count": 10,
   "id": "7091c437",
   "metadata": {},
   "outputs": [],
   "source": [
    "# create a dictionary with section number as key and question as value\n",
    "\n",
    "qc_section_dict = {}\n",
    "for i in range(len(gpt3_section_data)):\n",
    "    clean_question = clean(gpt3_section_data[i]['questions'][4:])\n",
    "    qc_section_dict[i] = clean_question"
   ]
  },
  {
   "cell_type": "markdown",
   "id": "a41d0599",
   "metadata": {},
   "source": [
    "Retrieving most relevant section, paragraph, and sentence from saved embeddings"
   ]
  },
  {
   "cell_type": "code",
   "execution_count": 26,
   "id": "95d3b821",
   "metadata": {},
   "outputs": [],
   "source": [
    "# retrieves the section with highest dot product with the question\n",
    "\n",
    "def section_retriever(embedded_question):\n",
    "    section_scores = {}\n",
    "    for i in range(len(section_tensors)):\n",
    "        score = embedded_question[0]@section_tensors[i]\n",
    "        section_scores[i] = score\n",
    "    \n",
    "    highest_score = max(section_scores, key=section_scores.get)\n",
    "    return highest_score"
   ]
  },
  {
   "cell_type": "code",
   "execution_count": 27,
   "id": "c087a677",
   "metadata": {},
   "outputs": [],
   "source": [
    "# retrieves the paragraph with highest dot product with the question\n",
    "\n",
    "def paragraph_retriever(embedded_question):\n",
    "    para_scores = {}\n",
    "    for i in range(len(para_tensors)):\n",
    "        score = embedded_question[0]@para_tensors[i]\n",
    "        para_scores[i] = score\n",
    "    \n",
    "    highest_score = max(para_scores, key=para_scores.get)\n",
    "    return highest_score"
   ]
  },
  {
   "cell_type": "code",
   "execution_count": 28,
   "id": "8b4cf0ba",
   "metadata": {},
   "outputs": [],
   "source": [
    "# retrieves the sentence with highest dot product with the question\n",
    "\n",
    "def sentence_retriever(embedded_question):\n",
    "    sentence_scores = {}\n",
    "    for i in range(len(sentence_tensors)):\n",
    "        score = embedded_question[0]@sentence_tensors[i]\n",
    "        sentence_scores[i] = score\n",
    "    \n",
    "    highest_score = max(sentence_scores, key=sentence_scores.get)\n",
    "    return highest_score"
   ]
  },
  {
   "cell_type": "code",
   "execution_count": 38,
   "id": "1c2d5888",
   "metadata": {
    "scrolled": false
   },
   "outputs": [],
   "source": [
    "# creating a dataframe with highest section/paragraph/sentence level scores for all questions\n",
    "\n",
    "cols = ['Question', 'GPT-3 Section', 'Section', 'Paragraph', 'Sentence']\n",
    "score_data = []\n",
    "\n",
    "for j in qc_section_dict:\n",
    "    question = qc_section_dict[j]\n",
    "    \n",
    "    #embed the question\n",
    "    tokenized_question = tokenizer(question, padding=True, truncation=True, return_tensors='pt')\n",
    "    output_question = model(**tokenized_question)\n",
    "    embeddings_question = mean_pooling(output_question[0], tokenized_question['attention_mask'])\n",
    "    \n",
    "    # retrieve section/para/sentence\n",
    "    section_no = section_retriever(embeddings_question)\n",
    "    paragraph_no = paragraph_retriever(embeddings_question)\n",
    "    sentence_no = sentence_retriever(embeddings_question)\n",
    "    \n",
    "    # store the question no., question, and scores in a dataframe\n",
    "    row = [question, j, section_no, paragraph_no, sentence_no]\n",
    "    score_data.append(row)\n",
    "\n",
    "score_df = pd.DataFrame(score_data, columns=cols)"
   ]
  },
  {
   "cell_type": "code",
   "execution_count": 39,
   "id": "3935e879",
   "metadata": {},
   "outputs": [
    {
     "data": {
      "text/html": [
       "<div>\n",
       "<style scoped>\n",
       "    .dataframe tbody tr th:only-of-type {\n",
       "        vertical-align: middle;\n",
       "    }\n",
       "\n",
       "    .dataframe tbody tr th {\n",
       "        vertical-align: top;\n",
       "    }\n",
       "\n",
       "    .dataframe thead th {\n",
       "        text-align: right;\n",
       "    }\n",
       "</style>\n",
       "<table border=\"1\" class=\"dataframe\">\n",
       "  <thead>\n",
       "    <tr style=\"text-align: right;\">\n",
       "      <th></th>\n",
       "      <th>Question</th>\n",
       "      <th>GPT-3 Section</th>\n",
       "      <th>Section</th>\n",
       "      <th>Paragraph</th>\n",
       "      <th>Sentence</th>\n",
       "    </tr>\n",
       "  </thead>\n",
       "  <tbody>\n",
       "    <tr>\n",
       "      <th>0</th>\n",
       "      <td>How does the design process for a digital FSM ...</td>\n",
       "      <td>0</td>\n",
       "      <td>28</td>\n",
       "      <td>371</td>\n",
       "      <td>1</td>\n",
       "    </tr>\n",
       "    <tr>\n",
       "      <th>1</th>\n",
       "      <td>Why is it important to design digital systems ...</td>\n",
       "      <td>1</td>\n",
       "      <td>1</td>\n",
       "      <td>845</td>\n",
       "      <td>1883</td>\n",
       "    </tr>\n",
       "    <tr>\n",
       "      <th>2</th>\n",
       "      <td>What is a Gray code?</td>\n",
       "      <td>2</td>\n",
       "      <td>2</td>\n",
       "      <td>12</td>\n",
       "      <td>2600</td>\n",
       "    </tr>\n",
       "    <tr>\n",
       "      <th>3</th>\n",
       "      <td>How does a three-bit gray code counter work?</td>\n",
       "      <td>3</td>\n",
       "      <td>2</td>\n",
       "      <td>124</td>\n",
       "      <td>225</td>\n",
       "    </tr>\n",
       "    <tr>\n",
       "      <th>4</th>\n",
       "      <td>Is it possible to create a counter with fewer ...</td>\n",
       "      <td>4</td>\n",
       "      <td>41</td>\n",
       "      <td>30</td>\n",
       "      <td>59</td>\n",
       "    </tr>\n",
       "    <tr>\n",
       "      <th>...</th>\n",
       "      <td>...</td>\n",
       "      <td>...</td>\n",
       "      <td>...</td>\n",
       "      <td>...</td>\n",
       "      <td>...</td>\n",
       "    </tr>\n",
       "    <tr>\n",
       "      <th>139</th>\n",
       "      <td>What is the meaning of the term \"universal com...</td>\n",
       "      <td>139</td>\n",
       "      <td>60</td>\n",
       "      <td>1687</td>\n",
       "      <td>3636</td>\n",
       "    </tr>\n",
       "    <tr>\n",
       "      <th>140</th>\n",
       "      <td>What is the overflow condition for unsigned ad...</td>\n",
       "      <td>140</td>\n",
       "      <td>73</td>\n",
       "      <td>1398</td>\n",
       "      <td>3046</td>\n",
       "    </tr>\n",
       "    <tr>\n",
       "      <th>141</th>\n",
       "      <td>Why is the converse of an implication not alwa...</td>\n",
       "      <td>141</td>\n",
       "      <td>81</td>\n",
       "      <td>1571</td>\n",
       "      <td>4119</td>\n",
       "    </tr>\n",
       "    <tr>\n",
       "      <th>142</th>\n",
       "      <td>-Why is it important to know when an addition ...</td>\n",
       "      <td>142</td>\n",
       "      <td>53</td>\n",
       "      <td>1397</td>\n",
       "      <td>4124</td>\n",
       "    </tr>\n",
       "    <tr>\n",
       "      <th>143</th>\n",
       "      <td>If A and B are both positive and S is negative...</td>\n",
       "      <td>143</td>\n",
       "      <td>81</td>\n",
       "      <td>1402</td>\n",
       "      <td>3050</td>\n",
       "    </tr>\n",
       "  </tbody>\n",
       "</table>\n",
       "<p>144 rows × 5 columns</p>\n",
       "</div>"
      ],
      "text/plain": [
       "                                              Question  GPT-3 Section  \\\n",
       "0    How does the design process for a digital FSM ...              0   \n",
       "1    Why is it important to design digital systems ...              1   \n",
       "2                                 What is a Gray code?              2   \n",
       "3         How does a three-bit gray code counter work?              3   \n",
       "4    Is it possible to create a counter with fewer ...              4   \n",
       "..                                                 ...            ...   \n",
       "139  What is the meaning of the term \"universal com...            139   \n",
       "140  What is the overflow condition for unsigned ad...            140   \n",
       "141  Why is the converse of an implication not alwa...            141   \n",
       "142  -Why is it important to know when an addition ...            142   \n",
       "143  If A and B are both positive and S is negative...            143   \n",
       "\n",
       "     Section  Paragraph  Sentence  \n",
       "0         28        371         1  \n",
       "1          1        845      1883  \n",
       "2          2         12      2600  \n",
       "3          2        124       225  \n",
       "4         41         30        59  \n",
       "..       ...        ...       ...  \n",
       "139       60       1687      3636  \n",
       "140       73       1398      3046  \n",
       "141       81       1571      4119  \n",
       "142       53       1397      4124  \n",
       "143       81       1402      3050  \n",
       "\n",
       "[144 rows x 5 columns]"
      ]
     },
     "execution_count": 39,
     "metadata": {},
     "output_type": "execute_result"
    }
   ],
   "source": [
    "score_df"
   ]
  },
  {
   "cell_type": "code",
   "execution_count": 40,
   "id": "29cf475f",
   "metadata": {},
   "outputs": [],
   "source": [
    "# extracting the section level retrievals not matching with GPT-3 data\n",
    "\n",
    "sections_not_match = score_df.loc[~(score_df['GPT-3 Section'] == score_df['Section'])]"
   ]
  },
  {
   "cell_type": "code",
   "execution_count": 62,
   "id": "892968e8",
   "metadata": {},
   "outputs": [
    {
     "data": {
      "text/plain": [
       "(88, 5)"
      ]
     },
     "execution_count": 62,
     "metadata": {},
     "output_type": "execute_result"
    }
   ],
   "source": [
    "sections_not_match.shape"
   ]
  },
  {
   "cell_type": "code",
   "execution_count": 82,
   "id": "fd432ea1",
   "metadata": {},
   "outputs": [
    {
     "name": "stdout",
     "output_type": "stream",
     "text": [
      "Question         Is it possible to create a counter with fewer ...\n",
      "GPT-3 Section                                                    4\n",
      "Section                                                         41\n",
      "Paragraph                                                       30\n",
      "Sentence                                                        59\n",
      "Name: 4, dtype: object\n",
      "-------------\n",
      "Is it possible to create a counter with fewer than 3 flip-flops?\n",
      "-------------\n",
      "{Example: A Color Sequencer}\n",
      "\n",
      "\n",
      "Early graphics systems used a three-bit red-green-blue (RGB) \n",
      "encoding for colors.  The color mapping for such a system is shown to\n",
      "the right.\n",
      "\n",
      "Imagine that you are charged with creating a counter to drive a light\n",
      "through a sequence of colors.  The light takes an RGB input as just\n",
      "described, and the desired pattern is\n",
      "\n",
      "{off (black)     yellow     violet     green     blue}\n",
      "\n",
      "You immediately recognize that you merely need a counter with five\n",
      "states.  How many flip-flops will we need?  At least three, since\n",
      "_2 (5)=3.  Given that we need three flip-flops, \n",
      "and that the colors we need to produce as\n",
      "\n",
      "\n",
      "{c|l}\n",
      "RGB& color \n",
      "000& black\n",
      "001& blue\n",
      "010& green\n",
      "011& cyan\n",
      "100& red\n",
      "101& violet\n",
      "110& yellow\n",
      "111& white\n",
      "\n",
      "\n",
      "\n",
      "outputs are all unique\n",
      "bit patterns, we can again choose to use the counter's internal \n",
      "state directly as our output values.\n",
      "\n",
      "\n",
      "A fully-specified transition diagram for our color sequencer\n",
      "appears to the right.  The states again form a loop,\n",
      "and are marked with the internal state value S_2S_1S_0 \n",
      "and the output RGB.\n",
      "\n",
      "\n",
      "\n",
      "\n",
      "\n",
      "\n",
      "As before, we can use the transition diagram to fill in K-maps for the \n",
      "next-state values S_2^+, S_1^+, and S_0^+, as shown to the right.\n",
      "For each of the three states not included in our transition diagram,\n",
      "we have inserted x's\n",
      "\n",
      "\n",
      "\n",
      "\n",
      "\n",
      "\n",
      "\n",
      "\n",
      "\n",
      "into the K-maps to indicate ``don't care.'' \n",
      "As you know, we can treat each x as either a 0 or a 1, whichever\n",
      "produces better results (where ``better'' usually means simpler \n",
      "equations).  The terms that we have chosen for our algebraic \n",
      "equations are illustrated in the K-maps.  The x's within the ellipses\n",
      "become 1s in the implementation, and the x's outside of the ellipses\n",
      "become 0s.\n",
      "\n",
      "\n",
      "For our next-state logic, we obtain:\n",
      "{eqnarray*}\n",
      "S_2^+ &=& S_2 S_1 + {{S_1}} {{S_0}} \n",
      "S_1^+ &=& S_2 S_0 + {{S_1}} {{S_0}} \n",
      "S_0^+ &=& S_1\n",
      "{eqnarray*}\n",
      "\n",
      "Again our equations for S_2^+ and S_1^+ share a common term,\n",
      "which becomes a single AND gate in the implementation shown to the\n",
      "right.\n",
      "\n",
      "\n",
      "\n",
      "\n",
      "\n",
      "\n",
      "-------------\n",
      "SECTION: {Ripple Counters}\n",
      "\n",
      "A second class of\n",
      "counter drives some of its flip-flops with a clock signal and feeds\n",
      "flip-flop outputs into the clock inputs of its remaining flip-flops,\n",
      "possibly through additional logic.  Such a counter is called a {\n",
      "ripple counter}, because the effect of a clock edge ripples through\n",
      "the flip-flops.  The delay inherent to the ripple effect, along with\n",
      "the complexity of ensuring that timing issues do not render the design\n",
      "unreliable, are the major drawbacks of ripple counters.  Compared with\n",
      "synchronous counters, however, ripple counters consume less energy,\n",
      "and are sometimes used for devices with restricted energy supplies.\n",
      "\n",
      "\n",
      "General ripple counters\n",
      "can be tricky because of timing issues, but certain types are easy.\n",
      "\n",
      "Consider the design of binary ripple counter.  The state diagram for \n",
      "a {3-bit} binary counter is replicated to the right.\n",
      "Looking\n",
      "at the states, notice that the least-significant bit alternates with\n",
      "each state, while higher bits flip whenever the next smaller bit (to\n",
      "the right) transitions from one to zero.  To take advantage of these\n",
      "properties, we use positive edge-triggered D flip-flops with\n",
      "their complemented () outputs wired back to their inputs.\n",
      "The clock input is fed only into the first\n",
      "flip-flop, and the complemented output of each flip-flop is also\n",
      "connected to the clock of the next.\n",
      "\n",
      "\n",
      "{file=part3/figs/lec16-9.eps,width=1.5in}\n",
      "\n",
      "\n",
      "\n",
      "An implementation of a {4-bit} binary ripple counter appears to the\n",
      "right.\n",
      "The order of bits in the figure matches the order used for our synchronous\n",
      "binary counters: least significant on the left, most significant on the\n",
      "right.\n",
      "As you can see from the figure, the technique generalizes to arbitrarily \n",
      "large binary ripple coun-\n",
      "\n",
      "\n",
      "\n",
      "\n",
      "\n",
      "ters, but the\n",
      "time required for the outputs to settle after a clock edge scales with\n",
      "the number of flip-flops in the counter.  On the other hand, an\n",
      "average of only two flip-flops see each clock edge (1 + 1/2 + 1/4 +\n",
      "), which reduces the power requirements.{Recall that\n",
      "flip-flops record the clock state internally.  The logical activity\n",
      "required to record such state consumes energy.}\n",
      "\n",
      "\n",
      "\n",
      "Beginning with the state 0000, at the rising clock edge, the left (S_0)\n",
      "flip-flop toggles to 1.  The second (S_1) flip-flop sees this change as a\n",
      "falling clock edge and does nothing, leaving the counter in\n",
      "state 0001.  When the next rising clock edge arrives, the left\n",
      "flip-flop toggles back to 0, which the second flip-flop sees as a\n",
      "rising clock edge, causing it to toggle to 1.  The third (S_2) flip-flop\n",
      "sees the second flip-flop's change as a falling edge and does nothing,\n",
      "and the state settles as 0010.  We leave verification of the remainder \n",
      "of the cycle as an exercise.\n",
      "\n",
      "\n",
      "-------------\n",
      "PARAGRAPH: You immediately recognize that you merely need a counter with five\n",
      "states.  How many flip-flops will we need?  At least three, since\n",
      "_2 (5)=3.  Given that we need three flip-flops, \n",
      "and that the colors we need to produce as\n",
      "-------------\n",
      "SENTENCE:    Given that we need three flip-flops, \n",
      "and that the colors we need to produce as\n",
      "\n",
      "\n",
      "{c|l}\n",
      "RGB& color \n",
      "000& black\n",
      "001& blue\n",
      "010& green\n",
      "011& cyan\n",
      "100& red\n",
      "101& violet\n",
      "110& yellow\n",
      "111& white\n",
      "\n",
      "\n",
      "\n",
      "outputs are all unique\n",
      "bit patterns, we can again choose to use the counter's internal \n",
      "state directly as our output values.\n"
     ]
    }
   ],
   "source": [
    "k = 4\n",
    "print(score_df.loc[k])\n",
    "print(\"-------------\")\n",
    "print(score_df.loc[k]['Question'])\n",
    "print(\"-------------\")\n",
    "print(gpt3_section_data[score_df.loc[k]['GPT-3 Section']]['positive_ctxs']['text'])\n",
    "print(\"-------------\")\n",
    "print(\"SECTION:\", section_data[str(score_df.loc[k]['Section'])])\n",
    "print(\"-------------\")\n",
    "print(\"PARAGRAPH:\", para_data[str(score_df.loc[k]['Paragraph'])])\n",
    "print(\"-------------\")\n",
    "print(\"SENTENCE: \", sentence_data[str(score_df.loc[k]['Sentence'])])"
   ]
  },
  {
   "cell_type": "markdown",
   "id": "7f61ec6c",
   "metadata": {},
   "source": [
    "Retrieving the top 5 sections based on a question"
   ]
  },
  {
   "cell_type": "code",
   "execution_count": 88,
   "id": "a715bd1c",
   "metadata": {},
   "outputs": [],
   "source": [
    "# outputs an array of dot product of the question against all the embeddings\n",
    "\n",
    "from operator import itemgetter\n",
    "\n",
    "\n",
    "def section_retriever(embedded_question):\n",
    "    section_scores = {}\n",
    "    for i in range(len(section_tensors)):\n",
    "        score = embedded_question[0]@section_tensors[i]\n",
    "        section_scores[i] = score\n",
    "    \n",
    "    res = dict(sorted(section_scores.items(), key = itemgetter(1), reverse = True)[:5])\n",
    "    highest_score = max(section_scores, key=section_scores.get)\n",
    "    return res"
   ]
  },
  {
   "cell_type": "code",
   "execution_count": 105,
   "id": "8db79c8c",
   "metadata": {},
   "outputs": [
    {
     "name": "stdout",
     "output_type": "stream",
     "text": [
      "Is it possible to create a counter with fewer than 3 flip-flops?\n"
     ]
    }
   ],
   "source": [
    "question = qc_section_dict[4]\n",
    "print(question)"
   ]
  },
  {
   "cell_type": "code",
   "execution_count": 106,
   "id": "2e944bed",
   "metadata": {},
   "outputs": [],
   "source": [
    "#embed the question\n",
    "tokenized_question = tokenizer(question, padding=True, truncation=True, return_tensors='pt')\n",
    "output_question = model(**tokenized_question)\n",
    "embeddings_question = mean_pooling(output_question[0], tokenized_question['attention_mask'])\n",
    "    \n",
    "# retrieve section/para/sentence\n",
    "section_no = section_retriever(embeddings_question)"
   ]
  },
  {
   "cell_type": "code",
   "execution_count": 107,
   "id": "228fc9ee",
   "metadata": {},
   "outputs": [
    {
     "data": {
      "text/plain": [
       "{41: tensor(1.4539, grad_fn=<DotBackward0>),\n",
       " 78: tensor(1.3056, grad_fn=<DotBackward0>),\n",
       " 40: tensor(1.3005, grad_fn=<DotBackward0>),\n",
       " 4: tensor(1.2652, grad_fn=<DotBackward0>),\n",
       " 2: tensor(1.2119, grad_fn=<DotBackward0>)}"
      ]
     },
     "execution_count": 107,
     "metadata": {},
     "output_type": "execute_result"
    }
   ],
   "source": [
    "section_no"
   ]
  },
  {
   "cell_type": "code",
   "execution_count": 114,
   "id": "b8ff85cf",
   "metadata": {},
   "outputs": [
    {
     "name": "stdout",
     "output_type": "stream",
     "text": [
      "{Ripple Counters}\n",
      "\n",
      "A second class of\n",
      "counter drives some of its flip-flops with a clock signal and feeds\n",
      "flip-flop outputs into the clock inputs of its remaining flip-flops,\n",
      "possibly through additional logic.  Such a counter is called a {\n",
      "ripple counter}, because the effect of a clock edge ripples through\n",
      "the flip-flops.  The delay inherent to the ripple effect, along with\n",
      "the complexity of ensuring that timing issues do not render the design\n",
      "unreliable, are the major drawbacks of ripple counters.  Compared with\n",
      "synchronous counters, however, ripple counters consume less energy,\n",
      "and are sometimes used for devices with restricted energy supplies.\n",
      "\n",
      "\n",
      "General ripple counters\n",
      "can be tricky because of timing issues, but certain types are easy.\n",
      "\n",
      "Consider the design of binary ripple counter.  The state diagram for \n",
      "a {3-bit} binary counter is replicated to the right.\n",
      "Looking\n",
      "at the states, notice that the least-significant bit alternates with\n",
      "each state, while higher bits flip whenever the next smaller bit (to\n",
      "the right) transitions from one to zero.  To take advantage of these\n",
      "properties, we use positive edge-triggered D flip-flops with\n",
      "their complemented () outputs wired back to their inputs.\n",
      "The clock input is fed only into the first\n",
      "flip-flop, and the complemented output of each flip-flop is also\n",
      "connected to the clock of the next.\n",
      "\n",
      "\n",
      "{file=part3/figs/lec16-9.eps,width=1.5in}\n",
      "\n",
      "\n",
      "\n",
      "An implementation of a {4-bit} binary ripple counter appears to the\n",
      "right.\n",
      "The order of bits in the figure matches the order used for our synchronous\n",
      "binary counters: least significant on the left, most significant on the\n",
      "right.\n",
      "As you can see from the figure, the technique generalizes to arbitrarily \n",
      "large binary ripple coun-\n",
      "\n",
      "\n",
      "\n",
      "\n",
      "\n",
      "ters, but the\n",
      "time required for the outputs to settle after a clock edge scales with\n",
      "the number of flip-flops in the counter.  On the other hand, an\n",
      "average of only two flip-flops see each clock edge (1 + 1/2 + 1/4 +\n",
      "), which reduces the power requirements.{Recall that\n",
      "flip-flops record the clock state internally.  The logical activity\n",
      "required to record such state consumes energy.}\n",
      "\n",
      "\n",
      "\n",
      "Beginning with the state 0000, at the rising clock edge, the left (S_0)\n",
      "flip-flop toggles to 1.  The second (S_1) flip-flop sees this change as a\n",
      "falling clock edge and does nothing, leaving the counter in\n",
      "state 0001.  When the next rising clock edge arrives, the left\n",
      "flip-flop toggles back to 0, which the second flip-flop sees as a\n",
      "rising clock edge, causing it to toggle to 1.  The third (S_2) flip-flop\n",
      "sees the second flip-flop's change as a falling edge and does nothing,\n",
      "and the state settles as 0010.  We leave verification of the remainder \n",
      "of the cycle as an exercise.\n",
      "\n",
      "\n"
     ]
    }
   ],
   "source": [
    "print(section_data['41'])"
   ]
  }
 ],
 "metadata": {
  "kernelspec": {
   "display_name": "Python 3 (ipykernel)",
   "language": "python",
   "name": "python3"
  },
  "language_info": {
   "codemirror_mode": {
    "name": "ipython",
    "version": 3
   },
   "file_extension": ".py",
   "mimetype": "text/x-python",
   "name": "python",
   "nbconvert_exporter": "python",
   "pygments_lexer": "ipython3",
   "version": "3.10.4"
  }
 },
 "nbformat": 4,
 "nbformat_minor": 5
}
