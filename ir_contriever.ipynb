{
 "cells": [
  {
   "cell_type": "code",
   "execution_count": 1,
   "id": "84ac1abe",
   "metadata": {},
   "outputs": [],
   "source": [
    "# importing required libraries\n",
    "\n",
    "import torch\n",
    "from transformers import AutoTokenizer, AutoModel\n",
    "import pandas as pd\n",
    "import json\n",
    "import re\n",
    "import numpy as np"
   ]
  },
  {
   "cell_type": "code",
   "execution_count": 2,
   "id": "d05da11e",
   "metadata": {},
   "outputs": [],
   "source": [
    "tokenizer = AutoTokenizer.from_pretrained('facebook/contriever-msmarco')\n",
    "model = AutoModel.from_pretrained('facebook/contriever-msmarco')"
   ]
  },
  {
   "cell_type": "code",
   "execution_count": 3,
   "id": "4de81239",
   "metadata": {},
   "outputs": [],
   "source": [
    "# Mean pooling\n",
    "\n",
    "def mean_pooling(token_embeddings, mask):\n",
    "    token_embeddings = token_embeddings.masked_fill(~mask[..., None].bool(), 0.)\n",
    "    sentence_embeddings = token_embeddings.sum(dim=1) / mask.sum(dim=1)[..., None]\n",
    "    return sentence_embeddings"
   ]
  },
  {
   "cell_type": "markdown",
   "id": "78291dfa",
   "metadata": {},
   "source": [
    "Generating embeddings for paragraph level text"
   ]
  },
  {
   "cell_type": "code",
   "execution_count": 4,
   "id": "75ff9424",
   "metadata": {},
   "outputs": [],
   "source": [
    "# read json file\n",
    "\n",
    "f = open(\"paragraphs.json\")\n",
    "data = json.load(f)"
   ]
  },
  {
   "cell_type": "code",
   "execution_count": 5,
   "id": "235a5115",
   "metadata": {},
   "outputs": [],
   "source": [
    "# cleaning the data\n",
    "\n",
    "def clean(text):\n",
    "    new_text = re.sub('\\n', '', text)\n",
    "    return new_text"
   ]
  },
  {
   "cell_type": "code",
   "execution_count": 6,
   "id": "1dca8c99",
   "metadata": {},
   "outputs": [],
   "source": [
    "# clean data --> apply tokenizer --> apply model --> mean pooling --> embeddings --> store in list --> convert to numpy array"
   ]
  },
  {
   "cell_type": "code",
   "execution_count": 7,
   "id": "2bf38af7",
   "metadata": {},
   "outputs": [],
   "source": [
    "n = int(len(data)/100)\n",
    "embeddings_list = []\n",
    "for k in range(n):\n",
    "    \n",
    "    if(k==n):\n",
    "        start = k*100\n",
    "        end = (list(data.keys())[-1])\n",
    "    else:\n",
    "        start = k*100\n",
    "        end = k*100+99\n",
    "        \n",
    "    for i in range(start, end):\n",
    "        para = data[str(i)]\n",
    "        para = clean(para)\n",
    "        tokenized_para = tokenizer(para, padding=True, truncation=True, return_tensors='pt')\n",
    "        output_para = model(**tokenized_para)\n",
    "        embeddings_para = mean_pooling(output_para[0], tokenized_para['attention_mask'])\n",
    "        numpy_embeddings = embeddings_para.detach().numpy()\n",
    "        embeddings_list.append(numpy_embeddings)\n",
    "\n",
    "embeddings_numpy = np.array(embeddings_list)"
   ]
  },
  {
   "cell_type": "code",
   "execution_count": 11,
   "id": "52c7e439",
   "metadata": {},
   "outputs": [],
   "source": [
    "# save the embeddings in a numpy file\n",
    "\n",
    "np.save('paragraph_embeddings', embeddings_numpy)"
   ]
  },
  {
   "cell_type": "code",
   "execution_count": 12,
   "id": "c980ed6e",
   "metadata": {},
   "outputs": [
    {
     "data": {
      "text/plain": [
       "(1980, 1, 768)"
      ]
     },
     "execution_count": 12,
     "metadata": {},
     "output_type": "execute_result"
    }
   ],
   "source": [
    "embeddings_numpy.shape"
   ]
  },
  {
   "cell_type": "code",
   "execution_count": 13,
   "id": "24252200",
   "metadata": {},
   "outputs": [],
   "source": [
    "# load saved embeddings from file\n",
    "\n",
    "saved_embeddings = np.load('paragraph_embeddings.npy')"
   ]
  },
  {
   "cell_type": "code",
   "execution_count": 14,
   "id": "f9311c15",
   "metadata": {},
   "outputs": [
    {
     "data": {
      "text/plain": [
       "(1980, 1, 768)"
      ]
     },
     "execution_count": 14,
     "metadata": {},
     "output_type": "execute_result"
    }
   ],
   "source": [
    "saved_embeddings.shape"
   ]
  },
  {
   "cell_type": "markdown",
   "id": "6f315dc2",
   "metadata": {},
   "source": [
    "Generating embeddings for sentence level text"
   ]
  },
  {
   "cell_type": "code",
   "execution_count": 17,
   "id": "6452a1d6",
   "metadata": {},
   "outputs": [],
   "source": [
    "fs = open(\"sentences.json\")\n",
    "sentence_data = json.load(fs)"
   ]
  },
  {
   "cell_type": "code",
   "execution_count": 19,
   "id": "bb2dc511",
   "metadata": {},
   "outputs": [
    {
     "data": {
      "text/plain": [
       "4243"
      ]
     },
     "execution_count": 19,
     "metadata": {},
     "output_type": "execute_result"
    }
   ],
   "source": [
    "len(sentence_data)"
   ]
  },
  {
   "cell_type": "code",
   "execution_count": 21,
   "id": "87916e76",
   "metadata": {},
   "outputs": [],
   "source": [
    "n = int(len(sentence_data)/100)\n",
    "embeddings_list_line = []\n",
    "for k in range(n):\n",
    "    \n",
    "    if(k==n):\n",
    "        start = k*100\n",
    "        end = (list(sentence_data.keys())[-1])\n",
    "    else:\n",
    "        start = k*100\n",
    "        end = k*100+99\n",
    "        \n",
    "    for i in range(start, end):\n",
    "        line = sentence_data[str(i)]\n",
    "        line = clean(line)\n",
    "        tokenized_line = tokenizer(line, padding=True, truncation=True, return_tensors='pt')\n",
    "        output_line = model(**tokenized_line)\n",
    "        embeddings_line = mean_pooling(output_line[0], tokenized_line['attention_mask'])\n",
    "        numpy_embeddings_line = embeddings_line.detach().numpy()\n",
    "        embeddings_list_line.append(numpy_embeddings_line)\n",
    "\n",
    "np_embeddings_line = np.array(embeddings_list_line)"
   ]
  },
  {
   "cell_type": "code",
   "execution_count": 22,
   "id": "bfe3b55a",
   "metadata": {},
   "outputs": [],
   "source": [
    "np.save('sentence_embeddings', np_embeddings_line)"
   ]
  },
  {
   "cell_type": "code",
   "execution_count": 23,
   "id": "dad16688",
   "metadata": {},
   "outputs": [
    {
     "data": {
      "text/plain": [
       "(4158, 1, 768)"
      ]
     },
     "execution_count": 23,
     "metadata": {},
     "output_type": "execute_result"
    }
   ],
   "source": [
    "np_embeddings_line.shape"
   ]
  },
  {
   "cell_type": "code",
   "execution_count": 24,
   "id": "232eb1c4",
   "metadata": {},
   "outputs": [
    {
     "data": {
      "text/plain": [
       "(4158, 1, 768)"
      ]
     },
     "execution_count": 24,
     "metadata": {},
     "output_type": "execute_result"
    }
   ],
   "source": [
    "saved_line_embeddings = np.load('sentence_embeddings.npy')\n",
    "saved_line_embeddings.shape"
   ]
  },
  {
   "cell_type": "markdown",
   "id": "2ab7fbe0",
   "metadata": {},
   "source": [
    "Generate section level embeddings"
   ]
  },
  {
   "cell_type": "code",
   "execution_count": 25,
   "id": "56538a3d",
   "metadata": {},
   "outputs": [],
   "source": [
    "fsec = open(\"sections.json\")\n",
    "section_data = json.load(fsec)"
   ]
  },
  {
   "cell_type": "code",
   "execution_count": 28,
   "id": "cdc9943f",
   "metadata": {},
   "outputs": [],
   "source": [
    "n = int(len(section_data)/100)\n",
    "embeddings_list_section = []\n",
    "for k in range(n):\n",
    "    \n",
    "    if(k==n):\n",
    "        start = k*100\n",
    "        end = (list(section_data.keys())[-1])\n",
    "    else:\n",
    "        start = k*100\n",
    "        end = k*100+99\n",
    "        \n",
    "    for i in range(start, end):\n",
    "        section = section_data[str(i)]\n",
    "        section = clean(section)\n",
    "        tokenized_section = tokenizer(section, padding=True, truncation=True, return_tensors='pt')\n",
    "        output_section = model(**tokenized_section)\n",
    "        embeddings_section = mean_pooling(output_section[0], tokenized_section['attention_mask'])\n",
    "        numpy_embeddings_section = embeddings_section.detach().numpy()\n",
    "        embeddings_list_section.append(numpy_embeddings_section)\n",
    "\n",
    "np_embeddings_section = np.array(embeddings_list_section)"
   ]
  },
  {
   "cell_type": "code",
   "execution_count": 32,
   "id": "2c7d1d86",
   "metadata": {},
   "outputs": [],
   "source": [
    "np.save('section_embeddings', np_embeddings_section)"
   ]
  },
  {
   "cell_type": "code",
   "execution_count": 33,
   "id": "bd57d205",
   "metadata": {},
   "outputs": [
    {
     "data": {
      "text/plain": [
       "(4158, 1, 768)"
      ]
     },
     "execution_count": 33,
     "metadata": {},
     "output_type": "execute_result"
    }
   ],
   "source": [
    "np_embeddings_line.shape"
   ]
  }
 ],
 "metadata": {
  "kernelspec": {
   "display_name": "Python 3 (ipykernel)",
   "language": "python",
   "name": "python3"
  },
  "language_info": {
   "codemirror_mode": {
    "name": "ipython",
    "version": 3
   },
   "file_extension": ".py",
   "mimetype": "text/x-python",
   "name": "python",
   "nbconvert_exporter": "python",
   "pygments_lexer": "ipython3",
   "version": "3.10.4"
  }
 },
 "nbformat": 4,
 "nbformat_minor": 5
}
