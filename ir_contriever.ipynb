{
 "cells": [
  {
   "cell_type": "code",
   "execution_count": 1,
   "id": "84ac1abe",
   "metadata": {},
   "outputs": [],
   "source": [
    "# importing required libraries\n",
    "\n",
    "import torch\n",
    "from transformers import AutoTokenizer, AutoModel\n",
    "import pandas as pd\n",
    "import json\n",
    "import re\n",
    "import numpy as np"
   ]
  },
  {
   "cell_type": "code",
   "execution_count": 2,
   "id": "d05da11e",
   "metadata": {},
   "outputs": [],
   "source": [
    "tokenizer = AutoTokenizer.from_pretrained('facebook/contriever-msmarco')\n",
    "model = AutoModel.from_pretrained('facebook/contriever-msmarco')"
   ]
  },
  {
   "cell_type": "code",
   "execution_count": 3,
   "id": "c7979748",
   "metadata": {},
   "outputs": [],
   "source": [
    "# sample data\n",
    "sentences = [\n",
    "    \"Where was Marie Curie born?\",\n",
    "    \"Maria Sklodowska, later known as Marie Curie, was born on November 7, 1867.\",\n",
    "    \"Born in Paris on 15 May 1859, Pierre Curie was the son of Eugène Curie, a doctor of French Catholic origin from Alsace.\"\n",
    "]"
   ]
  },
  {
   "cell_type": "code",
   "execution_count": 4,
   "id": "46afadbf",
   "metadata": {},
   "outputs": [],
   "source": [
    "# Apply tokenizer\n",
    "\n",
    "inputs = tokenizer(sentences, padding=True, truncation=True, return_tensors='pt')"
   ]
  },
  {
   "cell_type": "code",
   "execution_count": 5,
   "id": "76312027",
   "metadata": {},
   "outputs": [],
   "source": [
    "# Compute token embeddings\n",
    "\n",
    "outputs = model(**inputs)"
   ]
  },
  {
   "cell_type": "code",
   "execution_count": 6,
   "id": "4de81239",
   "metadata": {},
   "outputs": [],
   "source": [
    "# Mean pooling\n",
    "\n",
    "def mean_pooling(token_embeddings, mask):\n",
    "    token_embeddings = token_embeddings.masked_fill(~mask[..., None].bool(), 0.)\n",
    "    sentence_embeddings = token_embeddings.sum(dim=1) / mask.sum(dim=1)[..., None]\n",
    "    return sentence_embeddings"
   ]
  },
  {
   "cell_type": "markdown",
   "id": "78291dfa",
   "metadata": {},
   "source": [
    "Work on generated data"
   ]
  },
  {
   "cell_type": "code",
   "execution_count": 7,
   "id": "75ff9424",
   "metadata": {},
   "outputs": [],
   "source": [
    "# read json file\n",
    "\n",
    "f = open(\"paragraphs.json\")\n",
    "data = json.load(f)"
   ]
  },
  {
   "cell_type": "code",
   "execution_count": 8,
   "id": "235a5115",
   "metadata": {},
   "outputs": [],
   "source": [
    "# cleaning the data\n",
    "\n",
    "def clean(text):\n",
    "    new_text = re.sub('\\n', '', text)\n",
    "    return new_text"
   ]
  },
  {
   "cell_type": "code",
   "execution_count": 9,
   "id": "1dca8c99",
   "metadata": {},
   "outputs": [],
   "source": [
    "# clean data --> apply tokenizer --> apply model --> mean pooling --> embeddings --> store in list --> convert to numpy array"
   ]
  },
  {
   "cell_type": "code",
   "execution_count": 67,
   "id": "2bf38af7",
   "metadata": {},
   "outputs": [],
   "source": [
    "n = int(len(data)/100)\n",
    "embeddings_list = []\n",
    "for k in range(n):\n",
    "    \n",
    "    if(k==n):\n",
    "        start = k*100\n",
    "        end = (list(data.keys())[-1])\n",
    "    else:\n",
    "        start = k*100\n",
    "        end = k*100+99\n",
    "        \n",
    "    for i in range(start, end):\n",
    "        para = data[str(i)]\n",
    "        para = clean(para)\n",
    "        tokenized_para = tokenizer(para, padding=True, truncation=True, return_tensors='pt')\n",
    "        output_para = model(**tokenized_para)\n",
    "        embeddings_para = mean_pooling(output_para[0], tokenized_para['attention_mask'])\n",
    "        numpy_embeddings = embeddings_para.detach().numpy()\n",
    "        embeddings_list.append(numpy_embeddings)\n",
    "\n",
    "embeddings_numpy = np.array(embeddings_list)"
   ]
  },
  {
   "cell_type": "code",
   "execution_count": 68,
   "id": "52c7e439",
   "metadata": {},
   "outputs": [],
   "source": [
    "# save the embeddings in a numpy file\n",
    "\n",
    "np.save('test_embeddings', embeddings_numpy)"
   ]
  },
  {
   "cell_type": "code",
   "execution_count": 69,
   "id": "c980ed6e",
   "metadata": {},
   "outputs": [
    {
     "data": {
      "text/plain": [
       "(1980, 1, 768)"
      ]
     },
     "execution_count": 69,
     "metadata": {},
     "output_type": "execute_result"
    }
   ],
   "source": [
    "embeddings_numpy.shape"
   ]
  },
  {
   "cell_type": "code",
   "execution_count": 70,
   "id": "24252200",
   "metadata": {},
   "outputs": [],
   "source": [
    "# load saved embeddings from file\n",
    "\n",
    "saved_embeddings = np.load('test_embeddings.npy')"
   ]
  },
  {
   "cell_type": "code",
   "execution_count": 71,
   "id": "f9311c15",
   "metadata": {},
   "outputs": [
    {
     "data": {
      "text/plain": [
       "(1980, 1, 768)"
      ]
     },
     "execution_count": 71,
     "metadata": {},
     "output_type": "execute_result"
    }
   ],
   "source": [
    "saved_embeddings.shape"
   ]
  }
 ],
 "metadata": {
  "kernelspec": {
   "display_name": "Python 3 (ipykernel)",
   "language": "python",
   "name": "python3"
  },
  "language_info": {
   "codemirror_mode": {
    "name": "ipython",
    "version": 3
   },
   "file_extension": ".py",
   "mimetype": "text/x-python",
   "name": "python",
   "nbconvert_exporter": "python",
   "pygments_lexer": "ipython3",
   "version": "3.10.4"
  }
 },
 "nbformat": 4,
 "nbformat_minor": 5
}
