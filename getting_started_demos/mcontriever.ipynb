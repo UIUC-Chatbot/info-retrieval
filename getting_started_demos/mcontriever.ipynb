{
 "cells": [
  {
   "cell_type": "code",
   "execution_count": 1,
   "metadata": {},
   "outputs": [],
   "source": [
    "# import and initialize model + tokenizer\n",
    "import sys\n",
    "sys.path.append(\"./contriever\")\n",
    "\n",
    "from src.contriever import Contriever\n",
    "from transformers import AutoTokenizer\n",
    "\n",
    "mcontriever_msmarco = Contriever.from_pretrained(\"facebook/mcontriever-msmarco\")\n",
    "tokenizer = AutoTokenizer.from_pretrained(\"facebook/mcontriever-msmarco\")"
   ]
  },
  {
   "cell_type": "code",
   "execution_count": 24,
   "metadata": {},
   "outputs": [],
   "source": [
    "# embed test sentences\n",
    "sentences = [\n",
    "    \"Where was Marie Curie born?\",\n",
    "    \"Maria Sklodowska, later known as Marie Curie, was born on November 7, 1867.\",\n",
    "    \"Born in Paris on 15 May 1859, Pierre Curie was the son of Eugène Curie, a doctor of French Catholic origin from Alsace.\"\n",
    "]\n",
    "\n",
    "inputs = tokenizer(sentences, padding = True, truncation = True, return_tensors = \"pt\")\n",
    "embeddings = mcontriever_msmarco(**inputs)"
   ]
  },
  {
   "cell_type": "code",
   "execution_count": 25,
   "metadata": {},
   "outputs": [
    {
     "name": "stdout",
     "output_type": "stream",
     "text": [
      "Score 1: tensor(3.2272) \n",
      "Score2: tensor(3.1328)\n"
     ]
    }
   ],
   "source": [
    "# similarity scores (dot product)\n",
    "score01 = embeddings[0] @ embeddings[1] # 3.2272\n",
    "score02 = embeddings[0] @ embeddings[2] # 3.1328\n",
    "print(\"Score 1:\", score01.data, \"\\nScore2:\", score02.data)\n"
   ]
  },
  {
   "cell_type": "code",
   "execution_count": null,
   "metadata": {},
   "outputs": [],
   "source": []
  }
 ],
 "metadata": {
  "kernelspec": {
   "display_name": "Python 3.8.13 ('uiuc_chatbot')",
   "language": "python",
   "name": "python3"
  },
  "language_info": {
   "codemirror_mode": {
    "name": "ipython",
    "version": 3
   },
   "file_extension": ".py",
   "mimetype": "text/x-python",
   "name": "python",
   "nbconvert_exporter": "python",
   "pygments_lexer": "ipython3",
   "version": "3.8.13"
  },
  "orig_nbformat": 4,
  "vscode": {
   "interpreter": {
    "hash": "6a43cc122534a93b5c612f547ac93221675c880f0d4a9fcacc10e4f49794b76f"
   }
  }
 },
 "nbformat": 4,
 "nbformat_minor": 2
}
